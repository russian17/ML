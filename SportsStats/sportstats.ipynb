{
 "cells": [
  {
   "cell_type": "code",
   "execution_count": 116,
   "metadata": {},
   "outputs": [],
   "source": [
    "import pandas as pd\n",
    "import numpy as np\n",
    "import seaborn as sns\n",
    "import matplotlib.pyplot as plt\n",
    "import plotly_express as px\n",
    "from sqlite3 import connect"
   ]
  },
  {
   "cell_type": "code",
   "execution_count": 117,
   "metadata": {},
   "outputs": [
    {
     "data": {
      "text/html": [
       "<div>\n",
       "<style scoped>\n",
       "    .dataframe tbody tr th:only-of-type {\n",
       "        vertical-align: middle;\n",
       "    }\n",
       "\n",
       "    .dataframe tbody tr th {\n",
       "        vertical-align: top;\n",
       "    }\n",
       "\n",
       "    .dataframe thead th {\n",
       "        text-align: right;\n",
       "    }\n",
       "</style>\n",
       "<table border=\"1\" class=\"dataframe\">\n",
       "  <thead>\n",
       "    <tr style=\"text-align: right;\">\n",
       "      <th></th>\n",
       "      <th>ID</th>\n",
       "      <th>Name</th>\n",
       "      <th>Sex</th>\n",
       "      <th>Age</th>\n",
       "      <th>Height</th>\n",
       "      <th>Weight</th>\n",
       "      <th>Team</th>\n",
       "      <th>NOC</th>\n",
       "      <th>Games</th>\n",
       "      <th>Year</th>\n",
       "      <th>Season</th>\n",
       "      <th>City</th>\n",
       "      <th>Sport</th>\n",
       "      <th>Event</th>\n",
       "      <th>Medal</th>\n",
       "    </tr>\n",
       "  </thead>\n",
       "  <tbody>\n",
       "    <tr>\n",
       "      <th>0</th>\n",
       "      <td>1</td>\n",
       "      <td>A Dijiang</td>\n",
       "      <td>M</td>\n",
       "      <td>24.0</td>\n",
       "      <td>180.0</td>\n",
       "      <td>80.0</td>\n",
       "      <td>China</td>\n",
       "      <td>CHN</td>\n",
       "      <td>1992 Summer</td>\n",
       "      <td>1992</td>\n",
       "      <td>Summer</td>\n",
       "      <td>Barcelona</td>\n",
       "      <td>Basketball</td>\n",
       "      <td>Basketball Men's Basketball</td>\n",
       "      <td>NaN</td>\n",
       "    </tr>\n",
       "    <tr>\n",
       "      <th>1</th>\n",
       "      <td>2</td>\n",
       "      <td>A Lamusi</td>\n",
       "      <td>M</td>\n",
       "      <td>23.0</td>\n",
       "      <td>170.0</td>\n",
       "      <td>60.0</td>\n",
       "      <td>China</td>\n",
       "      <td>CHN</td>\n",
       "      <td>2012 Summer</td>\n",
       "      <td>2012</td>\n",
       "      <td>Summer</td>\n",
       "      <td>London</td>\n",
       "      <td>Judo</td>\n",
       "      <td>Judo Men's Extra-Lightweight</td>\n",
       "      <td>NaN</td>\n",
       "    </tr>\n",
       "    <tr>\n",
       "      <th>2</th>\n",
       "      <td>3</td>\n",
       "      <td>Gunnar Nielsen Aaby</td>\n",
       "      <td>M</td>\n",
       "      <td>24.0</td>\n",
       "      <td>NaN</td>\n",
       "      <td>NaN</td>\n",
       "      <td>Denmark</td>\n",
       "      <td>DEN</td>\n",
       "      <td>1920 Summer</td>\n",
       "      <td>1920</td>\n",
       "      <td>Summer</td>\n",
       "      <td>Antwerpen</td>\n",
       "      <td>Football</td>\n",
       "      <td>Football Men's Football</td>\n",
       "      <td>NaN</td>\n",
       "    </tr>\n",
       "    <tr>\n",
       "      <th>3</th>\n",
       "      <td>4</td>\n",
       "      <td>Edgar Lindenau Aabye</td>\n",
       "      <td>M</td>\n",
       "      <td>34.0</td>\n",
       "      <td>NaN</td>\n",
       "      <td>NaN</td>\n",
       "      <td>Denmark/Sweden</td>\n",
       "      <td>DEN</td>\n",
       "      <td>1900 Summer</td>\n",
       "      <td>1900</td>\n",
       "      <td>Summer</td>\n",
       "      <td>Paris</td>\n",
       "      <td>Tug-Of-War</td>\n",
       "      <td>Tug-Of-War Men's Tug-Of-War</td>\n",
       "      <td>Gold</td>\n",
       "    </tr>\n",
       "    <tr>\n",
       "      <th>4</th>\n",
       "      <td>5</td>\n",
       "      <td>Christine Jacoba Aaftink</td>\n",
       "      <td>F</td>\n",
       "      <td>21.0</td>\n",
       "      <td>185.0</td>\n",
       "      <td>82.0</td>\n",
       "      <td>Netherlands</td>\n",
       "      <td>NED</td>\n",
       "      <td>1988 Winter</td>\n",
       "      <td>1988</td>\n",
       "      <td>Winter</td>\n",
       "      <td>Calgary</td>\n",
       "      <td>Speed Skating</td>\n",
       "      <td>Speed Skating Women's 500 metres</td>\n",
       "      <td>NaN</td>\n",
       "    </tr>\n",
       "  </tbody>\n",
       "</table>\n",
       "</div>"
      ],
      "text/plain": [
       "   ID                      Name Sex   Age  Height  Weight            Team  \\\n",
       "0   1                 A Dijiang   M  24.0   180.0    80.0           China   \n",
       "1   2                  A Lamusi   M  23.0   170.0    60.0           China   \n",
       "2   3       Gunnar Nielsen Aaby   M  24.0     NaN     NaN         Denmark   \n",
       "3   4      Edgar Lindenau Aabye   M  34.0     NaN     NaN  Denmark/Sweden   \n",
       "4   5  Christine Jacoba Aaftink   F  21.0   185.0    82.0     Netherlands   \n",
       "\n",
       "   NOC        Games  Year  Season       City          Sport  \\\n",
       "0  CHN  1992 Summer  1992  Summer  Barcelona     Basketball   \n",
       "1  CHN  2012 Summer  2012  Summer     London           Judo   \n",
       "2  DEN  1920 Summer  1920  Summer  Antwerpen       Football   \n",
       "3  DEN  1900 Summer  1900  Summer      Paris     Tug-Of-War   \n",
       "4  NED  1988 Winter  1988  Winter    Calgary  Speed Skating   \n",
       "\n",
       "                              Event Medal  \n",
       "0       Basketball Men's Basketball   NaN  \n",
       "1      Judo Men's Extra-Lightweight   NaN  \n",
       "2           Football Men's Football   NaN  \n",
       "3       Tug-Of-War Men's Tug-Of-War  Gold  \n",
       "4  Speed Skating Women's 500 metres   NaN  "
      ]
     },
     "execution_count": 117,
     "metadata": {},
     "output_type": "execute_result"
    }
   ],
   "source": [
    "df_athletes = pd.read_csv('athlete_events.csv')\n",
    "df_regions = pd.read_csv('noc_regions.csv')\n",
    "df_athletes.head(5)"
   ]
  },
  {
   "cell_type": "code",
   "execution_count": 118,
   "metadata": {},
   "outputs": [
    {
     "data": {
      "text/html": [
       "<div>\n",
       "<style scoped>\n",
       "    .dataframe tbody tr th:only-of-type {\n",
       "        vertical-align: middle;\n",
       "    }\n",
       "\n",
       "    .dataframe tbody tr th {\n",
       "        vertical-align: top;\n",
       "    }\n",
       "\n",
       "    .dataframe thead th {\n",
       "        text-align: right;\n",
       "    }\n",
       "</style>\n",
       "<table border=\"1\" class=\"dataframe\">\n",
       "  <thead>\n",
       "    <tr style=\"text-align: right;\">\n",
       "      <th></th>\n",
       "      <th>NOC</th>\n",
       "      <th>region</th>\n",
       "      <th>notes</th>\n",
       "    </tr>\n",
       "  </thead>\n",
       "  <tbody>\n",
       "    <tr>\n",
       "      <th>0</th>\n",
       "      <td>AFG</td>\n",
       "      <td>Afghanistan</td>\n",
       "      <td>NaN</td>\n",
       "    </tr>\n",
       "    <tr>\n",
       "      <th>1</th>\n",
       "      <td>AHO</td>\n",
       "      <td>Curacao</td>\n",
       "      <td>Netherlands Antilles</td>\n",
       "    </tr>\n",
       "    <tr>\n",
       "      <th>2</th>\n",
       "      <td>ALB</td>\n",
       "      <td>Albania</td>\n",
       "      <td>NaN</td>\n",
       "    </tr>\n",
       "    <tr>\n",
       "      <th>3</th>\n",
       "      <td>ALG</td>\n",
       "      <td>Algeria</td>\n",
       "      <td>NaN</td>\n",
       "    </tr>\n",
       "    <tr>\n",
       "      <th>4</th>\n",
       "      <td>AND</td>\n",
       "      <td>Andorra</td>\n",
       "      <td>NaN</td>\n",
       "    </tr>\n",
       "  </tbody>\n",
       "</table>\n",
       "</div>"
      ],
      "text/plain": [
       "   NOC       region                 notes\n",
       "0  AFG  Afghanistan                   NaN\n",
       "1  AHO      Curacao  Netherlands Antilles\n",
       "2  ALB      Albania                   NaN\n",
       "3  ALG      Algeria                   NaN\n",
       "4  AND      Andorra                   NaN"
      ]
     },
     "execution_count": 118,
     "metadata": {},
     "output_type": "execute_result"
    }
   ],
   "source": [
    "df_regions.head(5)"
   ]
  },
  {
   "cell_type": "code",
   "execution_count": 119,
   "metadata": {},
   "outputs": [
    {
     "name": "stdout",
     "output_type": "stream",
     "text": [
      "<class 'pandas.core.frame.DataFrame'>\n",
      "RangeIndex: 271116 entries, 0 to 271115\n",
      "Data columns (total 15 columns):\n",
      " #   Column  Non-Null Count   Dtype  \n",
      "---  ------  --------------   -----  \n",
      " 0   ID      271116 non-null  int64  \n",
      " 1   Name    271116 non-null  object \n",
      " 2   Sex     271116 non-null  object \n",
      " 3   Age     261642 non-null  float64\n",
      " 4   Height  210945 non-null  float64\n",
      " 5   Weight  208241 non-null  float64\n",
      " 6   Team    271116 non-null  object \n",
      " 7   NOC     271116 non-null  object \n",
      " 8   Games   271116 non-null  object \n",
      " 9   Year    271116 non-null  int64  \n",
      " 10  Season  271116 non-null  object \n",
      " 11  City    271116 non-null  object \n",
      " 12  Sport   271116 non-null  object \n",
      " 13  Event   271116 non-null  object \n",
      " 14  Medal   39783 non-null   object \n",
      "dtypes: float64(3), int64(2), object(10)\n",
      "memory usage: 31.0+ MB\n"
     ]
    }
   ],
   "source": [
    "df_athletes.info()"
   ]
  },
  {
   "cell_type": "code",
   "execution_count": 120,
   "metadata": {},
   "outputs": [
    {
     "name": "stdout",
     "output_type": "stream",
     "text": [
      "<class 'pandas.core.frame.DataFrame'>\n",
      "RangeIndex: 230 entries, 0 to 229\n",
      "Data columns (total 3 columns):\n",
      " #   Column  Non-Null Count  Dtype \n",
      "---  ------  --------------  ----- \n",
      " 0   NOC     230 non-null    object\n",
      " 1   region  227 non-null    object\n",
      " 2   notes   21 non-null     object\n",
      "dtypes: object(3)\n",
      "memory usage: 5.5+ KB\n"
     ]
    }
   ],
   "source": [
    "df_regions.info()"
   ]
  },
  {
   "cell_type": "code",
   "execution_count": 121,
   "metadata": {},
   "outputs": [
    {
     "data": {
      "image/png": "[encoded data removed]",
      "text/plain": [
       "<Figure size 1200x600 with 1 Axes>"
      ]
     },
     "metadata": {},
     "output_type": "display_data"
    }
   ],
   "source": [
    "# Plot the distributon of sports\n",
    "plt.figure(figsize=(12, 6))\n",
    "sns.countplot(x='Sport', data=df_athletes, order=df_athletes['Sport'].value_counts().index)\n",
    "plt.xticks(rotation=90)\n",
    "plt.show()\n"
   ]
  },
  {
   "cell_type": "code",
   "execution_count": 122,
   "metadata": {},
   "outputs": [
    {
     "data": {
      "image/png": "[encoded data removed]",
      "text/plain": [
       "<Figure size 1200x600 with 1 Axes>"
      ]
     },
     "metadata": {},
     "output_type": "display_data"
    }
   ],
   "source": [
    "# Plot the distribution of teams\n",
    "plt.figure(figsize=(12, 6))\n",
    "top20_teams = df_athletes['Team'].value_counts().head(20)\n",
    "sns.countplot(x='Team', data=df_athletes, order=top20_teams.index)\n",
    "plt.xticks(rotation=90)\n",
    "plt.show()"
   ]
  },
  {
   "cell_type": "markdown",
   "metadata": {},
   "source": [
    "Let's drop some columns and generate SQL tables, and add an 'Event_ID' column to them to work as a PK on the Event Table and as FK in the Athletes Table. (However, since the table is small, we will not need to make any join or especial manipulation.)"
   ]
  },
  {
   "cell_type": "code",
   "execution_count": 123,
   "metadata": {},
   "outputs": [],
   "source": [
    "Athletes = df_athletes.drop(['Team','Games'], axis=1,inplace=False)\n",
    "Athletes.insert(loc=1, column=\"Event_ID\", value=range(1, 1 + len(Athletes)), allow_duplicates=False)\n",
    "Event = df_athletes.drop(['ID', 'Name', 'Sex', 'Age', 'Height', 'Weight', 'Team', 'NOC', 'Games', 'Medal'], axis=1,inplace=False)\n",
    "Event.insert(loc=1, column=\"Event_ID\", value=range(1, 1 + len(Event)), allow_duplicates=False)"
   ]
  },
  {
   "cell_type": "code",
   "execution_count": 124,
   "metadata": {},
   "outputs": [],
   "source": [
    "# With this python library we need to create a connector to keep the SQL Tables\n",
    "engine = connect(':memory:')"
   ]
  },
  {
   "cell_type": "code",
   "execution_count": 125,
   "metadata": {},
   "outputs": [
    {
     "data": {
      "text/plain": [
       "271116"
      ]
     },
     "execution_count": 125,
     "metadata": {},
     "output_type": "execute_result"
    }
   ],
   "source": [
    "Athletes.to_sql('AthletesTable', con=engine)\n",
    "Event.to_sql('EventTable', con=engine)"
   ]
  },
  {
   "cell_type": "markdown",
   "metadata": {},
   "source": [
    "Male / Female ratio found with sql and then plot with pie plot"
   ]
  },
  {
   "cell_type": "code",
   "execution_count": 126,
   "metadata": {},
   "outputs": [
    {
     "data": {
      "text/html": [
       "<div>\n",
       "<style scoped>\n",
       "    .dataframe tbody tr th:only-of-type {\n",
       "        vertical-align: middle;\n",
       "    }\n",
       "\n",
       "    .dataframe tbody tr th {\n",
       "        vertical-align: top;\n",
       "    }\n",
       "\n",
       "    .dataframe thead th {\n",
       "        text-align: right;\n",
       "    }\n",
       "</style>\n",
       "<table border=\"1\" class=\"dataframe\">\n",
       "  <thead>\n",
       "    <tr style=\"text-align: right;\">\n",
       "      <th></th>\n",
       "      <th>Sex</th>\n",
       "      <th>total</th>\n",
       "    </tr>\n",
       "  </thead>\n",
       "  <tbody>\n",
       "    <tr>\n",
       "      <th>0</th>\n",
       "      <td>F</td>\n",
       "      <td>74522</td>\n",
       "    </tr>\n",
       "    <tr>\n",
       "      <th>1</th>\n",
       "      <td>M</td>\n",
       "      <td>196594</td>\n",
       "    </tr>\n",
       "  </tbody>\n",
       "</table>\n",
       "</div>"
      ],
      "text/plain": [
       "  Sex   total\n",
       "0   F   74522\n",
       "1   M  196594"
      ]
     },
     "execution_count": 126,
     "metadata": {},
     "output_type": "execute_result"
    }
   ],
   "source": [
    "df_sex_ratio = pd.read_sql(\n",
    "    '''\n",
    "    SELECT \n",
    "        sex,\n",
    "        COUNT(*) AS total\n",
    "    FROM\n",
    "        AthletesTable\n",
    "    GROUP BY\n",
    "        sex\n",
    "    ''', con=engine\n",
    ")\n",
    "df_sex_ratio"
   ]
  },
  {
   "cell_type": "code",
   "execution_count": 127,
   "metadata": {},
   "outputs": [
    {
     "data": {
      "image/png": "[encoded data removed]",
      "text/plain": [
       "<Figure size 640x480 with 1 Axes>"
      ]
     },
     "metadata": {},
     "output_type": "display_data"
    }
   ],
   "source": [
    "df_sex_ratio.plot.pie(y='total', labels=df_sex_ratio['Sex'],\n",
    "                       autopct='%1.1f%%', startangle=140)\n",
    "plt.title('Male / Female Athlete Ratio')\n",
    "plt.show()"
   ]
  },
  {
   "cell_type": "code",
   "execution_count": 128,
   "metadata": {},
   "outputs": [
    {
     "data": {
      "application/vnd.plotly.v1+json": {
       "config": {
        "plotlyServerURL": "https://plot.ly"
       },
       "data": [
        {
         "coloraxis": "coloraxis",
         "geo": "geo",
         "hovertemplate": "NOC=%{location}<br>Medal_Count=%{z}<extra></extra>",
         "locationmode": "ISO-3",
         "locations": [
          "AHO",
          "ALB",
          "ALG",
          "AND",
          "ARG",
          "ARM",
          "ASA",
          "AUS",
          "AUT",
          "AZE",
          "BEL",
          "BER",
          "BIH",
          "BLR",
          "BOL",
          "BRA",
          "BUL",
          "CAN",
          "CAY",
          "CHI",
          "CHN",
          "CMR",
          "COL",
          "CRC",
          "CRO",
          "CYP",
          "CZE",
          "DEN",
          "DMA",
          "EGY",
          "ESP",
          "EST",
          "ETH",
          "EUN",
          "FIJ",
          "FIN",
          "FRA",
          "FRG",
          "GBR",
          "GDR",
          "GEO",
          "GER",
          "GHA",
          "GRE",
          "GUA",
          "GUM",
          "HKG",
          "HON",
          "HUN",
          "IND",
          "IOA",
          "IRI",
          "IRL",
          "ISL",
          "ISR",
          "ISV",
          "ITA",
          "IVB",
          "JAM",
          "JPN",
          "KAZ",
          "KEN",
          "KGZ",
          "KOR",
          "LAT",
          "LIB",
          "LIE",
          "LTU",
          "LUX",
          "MAD",
          "MAR",
          "MDA",
          "MEX",
          "MGL",
          "MKD",
          "MLT",
          "MNE",
          "MON",
          "NED",
          "NEP",
          "NOR",
          "NZL",
          "PAK",
          "PAR",
          "PER",
          "PHI",
          "POL",
          "POR",
          "PRK",
          "PUR",
          "ROU",
          "RSA",
          "RUS",
          "SCG",
          "SEN",
          "SLO",
          "SMR",
          "SRB",
          "SUI",
          "SVK",
          "SWE",
          "SWZ",
          "TCH",
          "TGA",
          "THA",
          "TJK",
          "TLS",
          "TOG",
          "TPE",
          "TTO",
          "TUR",
          "UKR",
          "URS",
          "URU",
          "USA",
          "UZB",
          "VEN",
          "YUG",
          "ZIM"
         ],
         "name": "",
         "type": "choropleth",
         "z": [
          5,
          7,
          12,
          116,
          384,
          47,
          2,
          546,
          2190,
          18,
          241,
          7,
          61,
          541,
          31,
          64,
          589,
          2873,
          3,
          173,
          818,
          2,
          2,
          24,
          169,
          47,
          920,
          112,
          1,
          3,
          406,
          425,
          2,
          214,
          4,
          1909,
          2125,
          757,
          1339,
          541,
          39,
          2208,
          1,
          188,
          15,
          1,
          12,
          3,
          478,
          30,
          1,
          77,
          43,
          201,
          27,
          55,
          2498,
          3,
          31,
          2108,
          598,
          4,
          15,
          772,
          498,
          91,
          276,
          116,
          26,
          2,
          50,
          43,
          70,
          97,
          22,
          2,
          5,
          61,
          675,
          6,
          2362,
          200,
          2,
          1,
          10,
          8,
          1342,
          21,
          125,
          37,
          674,
          25,
          1560,
          21,
          18,
          604,
          37,
          32,
          2147,
          546,
          2263,
          3,
          1035,
          1,
          6,
          10,
          1,
          3,
          97,
          7,
          178,
          580,
          1063,
          1,
          3789,
          31,
          7,
          537,
          2
         ]
        }
       ],
       "layout": {
        "coloraxis": {
         "colorbar": {
          "title": {
           "text": "Medal_Count"
          }
         },
         "colorscale": [
          [
           0,
           "rgb(255,245,235)"
          ],
          [
           0.125,
           "rgb(254,230,206)"
          ],
          [
           0.25,
           "rgb(253,208,162)"
          ],
          [
           0.375,
           "rgb(253,174,107)"
          ],
          [
           0.5,
           "rgb(253,141,60)"
          ],
          [
           0.625,
           "rgb(241,105,19)"
          ],
          [
           0.75,
           "rgb(217,72,1)"
          ],
          [
           0.875,
           "rgb(166,54,3)"
          ],
          [
           1,
           "rgb(127,39,4)"
          ]
         ]
        },
        "geo": {
         "center": {},
         "domain": {
          "x": [
           0,
           1
          ],
          "y": [
           0,
           1
          ]
         },
         "scope": "world"
        },
        "legend": {
         "tracegroupgap": 0
        },
        "template": {
         "data": {
          "bar": [
           {
            "error_x": {
             "color": "#2a3f5f"
            },
            "error_y": {
             "color": "#2a3f5f"
            },
            "marker": {
             "line": {
              "color": "#E5ECF6",
              "width": 0.5
             },
             "pattern": {
              "fillmode": "overlay",
              "size": 10,
              "solidity": 0.2
             }
            },
            "type": "bar"
           }
          ],
          "barpolar": [
           {
            "marker": {
             "line": {
              "color": "#E5ECF6",
              "width": 0.5
             },
             "pattern": {
              "fillmode": "overlay",
              "size": 10,
              "solidity": 0.2
             }
            },
            "type": "barpolar"
           }
          ],
          "carpet": [
           {
            "aaxis": {
             "endlinecolor": "#2a3f5f",
             "gridcolor": "white",
             "linecolor": "white",
             "minorgridcolor": "white",
             "startlinecolor": "#2a3f5f"
            },
            "baxis": {
             "endlinecolor": "#2a3f5f",
             "gridcolor": "white",
             "linecolor": "white",
             "minorgridcolor": "white",
             "startlinecolor": "#2a3f5f"
            },
            "type": "carpet"
           }
          ],
          "choropleth": [
           {
            "colorbar": {
             "outlinewidth": 0,
             "ticks": ""
            },
            "type": "choropleth"
           }
          ],
          "contour": [
           {
            "colorbar": {
             "outlinewidth": 0,
             "ticks": ""
            },
            "colorscale": [
             [
              0,
              "#0d0887"
             ],
             [
              0.1111111111111111,
              "#46039f"
             ],
             [
              0.2222222222222222,
              "#7201a8"
             ],
             [
              0.3333333333333333,
              "#9c179e"
             ],
             [
              0.4444444444444444,
              "#bd3786"
             ],
             [
              0.5555555555555556,
              "#d8576b"
             ],
             [
              0.6666666666666666,
              "#ed7953"
             ],
             [
              0.7777777777777778,
              "#fb9f3a"
             ],
             [
              0.8888888888888888,
              "#fdca26"
             ],
             [
              1,
              "#f0f921"
             ]
            ],
            "type": "contour"
           }
          ],
          "contourcarpet": [
           {
            "colorbar": {
             "outlinewidth": 0,
             "ticks": ""
            },
            "type": "contourcarpet"
           }
          ],
          "heatmap": [
           {
            "colorbar": {
             "outlinewidth": 0,
             "ticks": ""
            },
            "colorscale": [
             [
              0,
              "#0d0887"
             ],
             [
              0.1111111111111111,
              "#46039f"
             ],
             [
              0.2222222222222222,
              "#7201a8"
             ],
             [
              0.3333333333333333,
              "#9c179e"
             ],
             [
              0.4444444444444444,
              "#bd3786"
             ],
             [
              0.5555555555555556,
              "#d8576b"
             ],
             [
              0.6666666666666666,
              "#ed7953"
             ],
             [
              0.7777777777777778,
              "#fb9f3a"
             ],
             [
              0.8888888888888888,
              "#fdca26"
             ],
             [
              1,
              "#f0f921"
             ]
            ],
            "type": "heatmap"
           }
          ],
          "heatmapgl": [
           {
            "colorbar": {
             "outlinewidth": 0,
             "ticks": ""
            },
            "colorscale": [
             [
              0,
              "#0d0887"
             ],
             [
              0.1111111111111111,
              "#46039f"
             ],
             [
              0.2222222222222222,
              "#7201a8"
             ],
             [
              0.3333333333333333,
              "#9c179e"
             ],
             [
              0.4444444444444444,
              "#bd3786"
             ],
             [
              0.5555555555555556,
              "#d8576b"
             ],
             [
              0.6666666666666666,
              "#ed7953"
             ],
             [
              0.7777777777777778,
              "#fb9f3a"
             ],
             [
              0.8888888888888888,
              "#fdca26"
             ],
             [
              1,
              "#f0f921"
             ]
            ],
            "type": "heatmapgl"
           }
          ],
          "histogram": [
           {
            "marker": {
             "pattern": {
              "fillmode": "overlay",
              "size": 10,
              "solidity": 0.2
             }
            },
            "type": "histogram"
           }
          ],
          "histogram2d": [
           {
            "colorbar": {
             "outlinewidth": 0,
             "ticks": ""
            },
            "colorscale": [
             [
              0,
              "#0d0887"
             ],
             [
              0.1111111111111111,
              "#46039f"
             ],
             [
              0.2222222222222222,
              "#7201a8"
             ],
             [
              0.3333333333333333,
              "#9c179e"
             ],
             [
              0.4444444444444444,
              "#bd3786"
             ],
             [
              0.5555555555555556,
              "#d8576b"
             ],
             [
              0.6666666666666666,
              "#ed7953"
             ],
             [
              0.7777777777777778,
              "#fb9f3a"
             ],
             [
              0.8888888888888888,
              "#fdca26"
             ],
             [
              1,
              "#f0f921"
             ]
            ],
            "type": "histogram2d"
           }
          ],
          "histogram2dcontour": [
           {
            "colorbar": {
             "outlinewidth": 0,
             "ticks": ""
            },
            "colorscale": [
             [
              0,
              "#0d0887"
             ],
             [
              0.1111111111111111,
              "#46039f"
             ],
             [
              0.2222222222222222,
              "#7201a8"
             ],
             [
              0.3333333333333333,
              "#9c179e"
             ],
             [
              0.4444444444444444,
              "#bd3786"
             ],
             [
              0.5555555555555556,
              "#d8576b"
             ],
             [
              0.6666666666666666,
              "#ed7953"
             ],
             [
              0.7777777777777778,
              "#fb9f3a"
             ],
             [
              0.8888888888888888,
              "#fdca26"
             ],
             [
              1,
              "#f0f921"
             ]
            ],
            "type": "histogram2dcontour"
           }
          ],
          "mesh3d": [
           {
            "colorbar": {
             "outlinewidth": 0,
             "ticks": ""
            },
            "type": "mesh3d"
           }
          ],
          "parcoords": [
           {
            "line": {
             "colorbar": {
              "outlinewidth": 0,
              "ticks": ""
             }
            },
            "type": "parcoords"
           }
          ],
          "pie": [
           {
            "automargin": true,
            "type": "pie"
           }
          ],
          "scatter": [
           {
            "fillpattern": {
             "fillmode": "overlay",
             "size": 10,
             "solidity": 0.2
            },
            "type": "scatter"
           }
          ],
          "scatter3d": [
           {
            "line": {
             "colorbar": {
              "outlinewidth": 0,
              "ticks": ""
             }
            },
            "marker": {
             "colorbar": {
              "outlinewidth": 0,
              "ticks": ""
             }
            },
            "type": "scatter3d"
           }
          ],
          "scattercarpet": [
           {
            "marker": {
             "colorbar": {
              "outlinewidth": 0,
              "ticks": ""
             }
            },
            "type": "scattercarpet"
           }
          ],
          "scattergeo": [
           {
            "marker": {
             "colorbar": {
              "outlinewidth": 0,
              "ticks": ""
             }
            },
            "type": "scattergeo"
           }
          ],
          "scattergl": [
           {
            "marker": {
             "colorbar": {
              "outlinewidth": 0,
              "ticks": ""
             }
            },
            "type": "scattergl"
           }
          ],
          "scattermapbox": [
           {
            "marker": {
             "colorbar": {
              "outlinewidth": 0,
              "ticks": ""
             }
            },
            "type": "scattermapbox"
           }
          ],
          "scatterpolar": [
           {
            "marker": {
             "colorbar": {
              "outlinewidth": 0,
              "ticks": ""
             }
            },
            "type": "scatterpolar"
           }
          ],
          "scatterpolargl": [
           {
            "marker": {
             "colorbar": {
              "outlinewidth": 0,
              "ticks": ""
             }
            },
            "type": "scatterpolargl"
           }
          ],
          "scatterternary": [
           {
            "marker": {
             "colorbar": {
              "outlinewidth": 0,
              "ticks": ""
             }
            },
            "type": "scatterternary"
           }
          ],
          "surface": [
           {
            "colorbar": {
             "outlinewidth": 0,
             "ticks": ""
            },
            "colorscale": [
             [
              0,
              "#0d0887"
             ],
             [
              0.1111111111111111,
              "#46039f"
             ],
             [
              0.2222222222222222,
              "#7201a8"
             ],
             [
              0.3333333333333333,
              "#9c179e"
             ],
             [
              0.4444444444444444,
              "#bd3786"
             ],
             [
              0.5555555555555556,
              "#d8576b"
             ],
             [
              0.6666666666666666,
              "#ed7953"
             ],
             [
              0.7777777777777778,
              "#fb9f3a"
             ],
             [
              0.8888888888888888,
              "#fdca26"
             ],
             [
              1,
              "#f0f921"
             ]
            ],
            "type": "surface"
           }
          ],
          "table": [
           {
            "cells": {
             "fill": {
              "color": "#EBF0F8"
             },
             "line": {
              "color": "white"
             }
            },
            "header": {
             "fill": {
              "color": "#C8D4E3"
             },
             "line": {
              "color": "white"
             }
            },
            "type": "table"
           }
          ]
         },
         "layout": {
          "annotationdefaults": {
           "arrowcolor": "#2a3f5f",
           "arrowhead": 0,
           "arrowwidth": 1
          },
          "autotypenumbers": "strict",
          "coloraxis": {
           "colorbar": {
            "outlinewidth": 0,
            "ticks": ""
           }
          },
          "colorscale": {
           "diverging": [
            [
             0,
             "#8e0152"
            ],
            [
             0.1,
             "#c51b7d"
            ],
            [
             0.2,
             "#de77ae"
            ],
            [
             0.3,
             "#f1b6da"
            ],
            [
             0.4,
             "#fde0ef"
            ],
            [
             0.5,
             "#f7f7f7"
            ],
            [
             0.6,
             "#e6f5d0"
            ],
            [
             0.7,
             "#b8e186"
            ],
            [
             0.8,
             "#7fbc41"
            ],
            [
             0.9,
             "#4d9221"
            ],
            [
             1,
             "#276419"
            ]
           ],
           "sequential": [
            [
             0,
             "#0d0887"
            ],
            [
             0.1111111111111111,
             "#46039f"
            ],
            [
             0.2222222222222222,
             "#7201a8"
            ],
            [
             0.3333333333333333,
             "#9c179e"
            ],
            [
             0.4444444444444444,
             "#bd3786"
            ],
            [
             0.5555555555555556,
             "#d8576b"
            ],
            [
             0.6666666666666666,
             "#ed7953"
            ],
            [
             0.7777777777777778,
             "#fb9f3a"
            ],
            [
             0.8888888888888888,
             "#fdca26"
            ],
            [
             1,
             "#f0f921"
            ]
           ],
           "sequentialminus": [
            [
             0,
             "#0d0887"
            ],
            [
             0.1111111111111111,
             "#46039f"
            ],
            [
             0.2222222222222222,
             "#7201a8"
            ],
            [
             0.3333333333333333,
             "#9c179e"
            ],
            [
             0.4444444444444444,
             "#bd3786"
            ],
            [
             0.5555555555555556,
             "#d8576b"
            ],
            [
             0.6666666666666666,
             "#ed7953"
            ],
            [
             0.7777777777777778,
             "#fb9f3a"
            ],
            [
             0.8888888888888888,
             "#fdca26"
            ],
            [
             1,
             "#f0f921"
            ]
           ]
          },
          "colorway": [
           "#636efa",
           "#EF553B",
           "#00cc96",
           "#ab63fa",
           "#FFA15A",
           "#19d3f3",
           "#FF6692",
           "#B6E880",
           "#FF97FF",
           "#FECB52"
          ],
          "font": {
           "color": "#2a3f5f"
          },
          "geo": {
           "bgcolor": "white",
           "lakecolor": "white",
           "landcolor": "#E5ECF6",
           "showlakes": true,
           "showland": true,
           "subunitcolor": "white"
          },
          "hoverlabel": {
           "align": "left"
          },
          "hovermode": "closest",
          "mapbox": {
           "style": "light"
          },
          "paper_bgcolor": "white",
          "plot_bgcolor": "#E5ECF6",
          "polar": {
           "angularaxis": {
            "gridcolor": "white",
            "linecolor": "white",
            "ticks": ""
           },
           "bgcolor": "#E5ECF6",
           "radialaxis": {
            "gridcolor": "white",
            "linecolor": "white",
            "ticks": ""
           }
          },
          "scene": {
           "xaxis": {
            "backgroundcolor": "#E5ECF6",
            "gridcolor": "white",
            "gridwidth": 2,
            "linecolor": "white",
            "showbackground": true,
            "ticks": "",
            "zerolinecolor": "white"
           },
           "yaxis": {
            "backgroundcolor": "#E5ECF6",
            "gridcolor": "white",
            "gridwidth": 2,
            "linecolor": "white",
            "showbackground": true,
            "ticks": "",
            "zerolinecolor": "white"
           },
           "zaxis": {
            "backgroundcolor": "#E5ECF6",
            "gridcolor": "white",
            "gridwidth": 2,
            "linecolor": "white",
            "showbackground": true,
            "ticks": "",
            "zerolinecolor": "white"
           }
          },
          "shapedefaults": {
           "line": {
            "color": "#2a3f5f"
           }
          },
          "ternary": {
           "aaxis": {
            "gridcolor": "white",
            "linecolor": "white",
            "ticks": ""
           },
           "baxis": {
            "gridcolor": "white",
            "linecolor": "white",
            "ticks": ""
           },
           "bgcolor": "#E5ECF6",
           "caxis": {
            "gridcolor": "white",
            "linecolor": "white",
            "ticks": ""
           }
          },
          "title": {
           "x": 0.05
          },
          "xaxis": {
           "automargin": true,
           "gridcolor": "white",
           "linecolor": "white",
           "ticks": "",
           "title": {
            "standoff": 15
           },
           "zerolinecolor": "white",
           "zerolinewidth": 2
          },
          "yaxis": {
           "automargin": true,
           "gridcolor": "white",
           "linecolor": "white",
           "ticks": "",
           "title": {
            "standoff": 15
           },
           "zerolinecolor": "white",
           "zerolinewidth": 2
          }
         }
        },
        "title": {
         "text": "Number of Medals by Country in Winter Games"
        }
       }
      }
     },
     "metadata": {},
     "output_type": "display_data"
    }
   ],
   "source": [
    "# Using plotly express to plot distribution of medals in winter games by all world map\n",
    "df_medals = df_athletes[df_athletes['Season'] == 'Winter'] \n",
    "df_medals_count = df_medals.groupby('NOC').size().reset_index(name='Medal_Count')\n",
    "df_medals = pd.merge(df_medals_count, df_regions, on='NOC', how='left')\n",
    "\n",
    "\n",
    "fig = px.choropleth(df_medals,\n",
    "                    locations='NOC', \n",
    "                    locationmode='ISO-3', \n",
    "                    color='Medal_Count',  # Replace 'Medal_Count' with the actual column name\n",
    "                    color_continuous_scale='Oranges', \n",
    "                    scope='world', \n",
    "                    title='Number of Medals by Country in Winter Games')\n",
    "fig.show()\n"
   ]
  },
  {
   "cell_type": "code",
   "execution_count": 129,
   "metadata": {},
   "outputs": [
    {
     "data": {
      "application/vnd.plotly.v1+json": {
       "config": {
        "plotlyServerURL": "https://plot.ly"
       },
       "data": [
        {
         "coloraxis": "coloraxis",
         "geo": "geo",
         "hovertemplate": "NOC=%{location}<br>Medal_Count=%{z}<extra></extra>",
         "locationmode": "ISO-3",
         "locations": [
          "AFG",
          "AHO",
          "ALB",
          "ALG",
          "AND",
          "ANG",
          "ANT",
          "ANZ",
          "ARG",
          "ARM",
          "ARU",
          "ASA",
          "AUS",
          "AUT",
          "AZE",
          "BAH",
          "BAN",
          "BAR",
          "BDI",
          "BEL",
          "BEN",
          "BER",
          "BHU",
          "BIH",
          "BIZ",
          "BLR",
          "BOH",
          "BOL",
          "BOT",
          "BRA",
          "BRN",
          "BRU",
          "BUL",
          "BUR",
          "CAF",
          "CAM",
          "CAN",
          "CAY",
          "CGO",
          "CHA",
          "CHI",
          "CHN",
          "CIV",
          "CMR",
          "COD",
          "COK",
          "COL",
          "COM",
          "CPV",
          "CRC",
          "CRO",
          "CRT",
          "CUB",
          "CYP",
          "CZE",
          "DEN",
          "DJI",
          "DMA",
          "DOM",
          "ECU",
          "EGY",
          "ERI",
          "ESA",
          "ESP",
          "EST",
          "ETH",
          "EUN",
          "FIJ",
          "FIN",
          "FRA",
          "FRG",
          "FSM",
          "GAB",
          "GAM",
          "GBR",
          "GBS",
          "GDR",
          "GEO",
          "GEQ",
          "GER",
          "GHA",
          "GRE",
          "GRN",
          "GUA",
          "GUI",
          "GUM",
          "GUY",
          "HAI",
          "HKG",
          "HON",
          "HUN",
          "INA",
          "IND",
          "IOA",
          "IRI",
          "IRL",
          "IRQ",
          "ISL",
          "ISR",
          "ISV",
          "ITA",
          "IVB",
          "JAM",
          "JOR",
          "JPN",
          "KAZ",
          "KEN",
          "KGZ",
          "KIR",
          "KOR",
          "KOS",
          "KSA",
          "KUW",
          "LAO",
          "LAT",
          "LBA",
          "LBR",
          "LCA",
          "LES",
          "LIB",
          "LIE",
          "LTU",
          "LUX",
          "MAD",
          "MAL",
          "MAR",
          "MAS",
          "MAW",
          "MDA",
          "MDV",
          "MEX",
          "MGL",
          "MHL",
          "MKD",
          "MLI",
          "MLT",
          "MNE",
          "MON",
          "MOZ",
          "MRI",
          "MTN",
          "MYA",
          "NAM",
          "NBO",
          "NCA",
          "NED",
          "NEP",
          "NFL",
          "NGR",
          "NIG",
          "NOR",
          "NRU",
          "NZL",
          "OMA",
          "PAK",
          "PAN",
          "PAR",
          "PER",
          "PHI",
          "PLE",
          "PLW",
          "PNG",
          "POL",
          "POR",
          "PRK",
          "PUR",
          "QAT",
          "RHO",
          "ROT",
          "ROU",
          "RSA",
          "RUS",
          "RWA",
          "SAA",
          "SAM",
          "SCG",
          "SEN",
          "SEY",
          "SGP",
          "SKN",
          "SLE",
          "SLO",
          "SMR",
          "SOL",
          "SOM",
          "SRB",
          "SRI",
          "SSD",
          "STP",
          "SUD",
          "SUI",
          "SUR",
          "SVK",
          "SWE",
          "SWZ",
          "SYR",
          "TAN",
          "TCH",
          "TGA",
          "THA",
          "TJK",
          "TKM",
          "TLS",
          "TOG",
          "TPE",
          "TTO",
          "TUN",
          "TUR",
          "TUV",
          "UAE",
          "UAR",
          "UGA",
          "UKR",
          "UNK",
          "URS",
          "URU",
          "USA",
          "UZB",
          "VAN",
          "VEN",
          "VIE",
          "VIN",
          "VNM",
          "WIF",
          "YAR",
          "YEM",
          "YMD",
          "YUG",
          "ZAM",
          "ZIM"
         ],
         "name": "",
         "type": "choropleth",
         "z": [
          126,
          74,
          63,
          539,
          53,
          267,
          133,
          86,
          2913,
          174,
          42,
          35,
          7092,
          2951,
          265,
          374,
          55,
          219,
          39,
          3616,
          71,
          205,
          36,
          73,
          76,
          1246,
          153,
          121,
          90,
          3784,
          126,
          10,
          2941,
          44,
          67,
          63,
          6860,
          80,
          105,
          41,
          752,
          4323,
          193,
          310,
          93,
          40,
          1067,
          19,
          18,
          240,
          707,
          11,
          2479,
          178,
          954,
          3458,
          38,
          18,
          277,
          277,
          1619,
          43,
          218,
          4907,
          451,
          376,
          650,
          228,
          3558,
          10633,
          2558,
          26,
          63,
          56,
          10917,
          21,
          2104,
          247,
          40,
          7622,
          358,
          2993,
          54,
          410,
          73,
          111,
          102,
          106,
          673,
          186,
          6129,
          412,
          1378,
          93,
          712,
          1282,
          232,
          426,
          638,
          239,
          8217,
          42,
          817,
          80,
          6336,
          831,
          768,
          212,
          11,
          3692,
          8,
          230,
          284,
          54,
          453,
          84,
          74,
          28,
          66,
          238,
          93,
          538,
          970,
          117,
          45,
          632,
          530,
          87,
          191,
          49,
          2810,
          453,
          14,
          62,
          92,
          116,
          89,
          136,
          78,
          144,
          29,
          111,
          77,
          2,
          129,
          5164,
          88,
          1,
          882,
          47,
          2598,
          13,
          2142,
          66,
          560,
          139,
          134,
          522,
          686,
          21,
          25,
          108,
          4865,
          1501,
          682,
          890,
          192,
          12,
          12,
          3731,
          1686,
          3583,
          56,
          93,
          63,
          300,
          375,
          111,
          349,
          42,
          114,
          507,
          144,
          27,
          32,
          360,
          146,
          3,
          15,
          107,
          4003,
          69,
          509,
          6076,
          64,
          156,
          161,
          3369,
          45,
          741,
          60,
          54,
          8,
          56,
          1000,
          368,
          561,
          1178,
          7,
          144,
          123,
          260,
          1979,
          2,
          4622,
          575,
          15064,
          464,
          35,
          918,
          154,
          42,
          62,
          20,
          11,
          32,
          5,
          2046,
          183,
          309
         ]
        }
       ],
       "layout": {
        "coloraxis": {
         "colorbar": {
          "title": {
           "text": "Medal_Count"
          }
         },
         "colorscale": [
          [
           0,
           "rgb(255,245,235)"
          ],
          [
           0.125,
           "rgb(254,230,206)"
          ],
          [
           0.25,
           "rgb(253,208,162)"
          ],
          [
           0.375,
           "rgb(253,174,107)"
          ],
          [
           0.5,
           "rgb(253,141,60)"
          ],
          [
           0.625,
           "rgb(241,105,19)"
          ],
          [
           0.75,
           "rgb(217,72,1)"
          ],
          [
           0.875,
           "rgb(166,54,3)"
          ],
          [
           1,
           "rgb(127,39,4)"
          ]
         ]
        },
        "geo": {
         "center": {},
         "domain": {
          "x": [
           0,
           1
          ],
          "y": [
           0,
           1
          ]
         },
         "scope": "world"
        },
        "legend": {
         "tracegroupgap": 0
        },
        "template": {
         "data": {
          "bar": [
           {
            "error_x": {
             "color": "#2a3f5f"
            },
            "error_y": {
             "color": "#2a3f5f"
            },
            "marker": {
             "line": {
              "color": "#E5ECF6",
              "width": 0.5
             },
             "pattern": {
              "fillmode": "overlay",
              "size": 10,
              "solidity": 0.2
             }
            },
            "type": "bar"
           }
          ],
          "barpolar": [
           {
            "marker": {
             "line": {
              "color": "#E5ECF6",
              "width": 0.5
             },
             "pattern": {
              "fillmode": "overlay",
              "size": 10,
              "solidity": 0.2
             }
            },
            "type": "barpolar"
           }
          ],
          "carpet": [
           {
            "aaxis": {
             "endlinecolor": "#2a3f5f",
             "gridcolor": "white",
             "linecolor": "white",
             "minorgridcolor": "white",
             "startlinecolor": "#2a3f5f"
            },
            "baxis": {
             "endlinecolor": "#2a3f5f",
             "gridcolor": "white",
             "linecolor": "white",
             "minorgridcolor": "white",
             "startlinecolor": "#2a3f5f"
            },
            "type": "carpet"
           }
          ],
          "choropleth": [
           {
            "colorbar": {
             "outlinewidth": 0,
             "ticks": ""
            },
            "type": "choropleth"
           }
          ],
          "contour": [
           {
            "colorbar": {
             "outlinewidth": 0,
             "ticks": ""
            },
            "colorscale": [
             [
              0,
              "#0d0887"
             ],
             [
              0.1111111111111111,
              "#46039f"
             ],
             [
              0.2222222222222222,
              "#7201a8"
             ],
             [
              0.3333333333333333,
              "#9c179e"
             ],
             [
              0.4444444444444444,
              "#bd3786"
             ],
             [
              0.5555555555555556,
              "#d8576b"
             ],
             [
              0.6666666666666666,
              "#ed7953"
             ],
             [
              0.7777777777777778,
              "#fb9f3a"
             ],
             [
              0.8888888888888888,
              "#fdca26"
             ],
             [
              1,
              "#f0f921"
             ]
            ],
            "type": "contour"
           }
          ],
          "contourcarpet": [
           {
            "colorbar": {
             "outlinewidth": 0,
             "ticks": ""
            },
            "type": "contourcarpet"
           }
          ],
          "heatmap": [
           {
            "colorbar": {
             "outlinewidth": 0,
             "ticks": ""
            },
            "colorscale": [
             [
              0,
              "#0d0887"
             ],
             [
              0.1111111111111111,
              "#46039f"
             ],
             [
              0.2222222222222222,
              "#7201a8"
             ],
             [
              0.3333333333333333,
              "#9c179e"
             ],
             [
              0.4444444444444444,
              "#bd3786"
             ],
             [
              0.5555555555555556,
              "#d8576b"
             ],
             [
              0.6666666666666666,
              "#ed7953"
             ],
             [
              0.7777777777777778,
              "#fb9f3a"
             ],
             [
              0.8888888888888888,
              "#fdca26"
             ],
             [
              1,
              "#f0f921"
             ]
            ],
            "type": "heatmap"
           }
          ],
          "heatmapgl": [
           {
            "colorbar": {
             "outlinewidth": 0,
             "ticks": ""
            },
            "colorscale": [
             [
              0,
              "#0d0887"
             ],
             [
              0.1111111111111111,
              "#46039f"
             ],
             [
              0.2222222222222222,
              "#7201a8"
             ],
             [
              0.3333333333333333,
              "#9c179e"
             ],
             [
              0.4444444444444444,
              "#bd3786"
             ],
             [
              0.5555555555555556,
              "#d8576b"
             ],
             [
              0.6666666666666666,
              "#ed7953"
             ],
             [
              0.7777777777777778,
              "#fb9f3a"
             ],
             [
              0.8888888888888888,
              "#fdca26"
             ],
             [
              1,
              "#f0f921"
             ]
            ],
            "type": "heatmapgl"
           }
          ],
          "histogram": [
           {
            "marker": {
             "pattern": {
              "fillmode": "overlay",
              "size": 10,
              "solidity": 0.2
             }
            },
            "type": "histogram"
           }
          ],
          "histogram2d": [
           {
            "colorbar": {
             "outlinewidth": 0,
             "ticks": ""
            },
            "colorscale": [
             [
              0,
              "#0d0887"
             ],
             [
              0.1111111111111111,
              "#46039f"
             ],
             [
              0.2222222222222222,
              "#7201a8"
             ],
             [
              0.3333333333333333,
              "#9c179e"
             ],
             [
              0.4444444444444444,
              "#bd3786"
             ],
             [
              0.5555555555555556,
              "#d8576b"
             ],
             [
              0.6666666666666666,
              "#ed7953"
             ],
             [
              0.7777777777777778,
              "#fb9f3a"
             ],
             [
              0.8888888888888888,
              "#fdca26"
             ],
             [
              1,
              "#f0f921"
             ]
            ],
            "type": "histogram2d"
           }
          ],
          "histogram2dcontour": [
           {
            "colorbar": {
             "outlinewidth": 0,
             "ticks": ""
            },
            "colorscale": [
             [
              0,
              "#0d0887"
             ],
             [
              0.1111111111111111,
              "#46039f"
             ],
             [
              0.2222222222222222,
              "#7201a8"
             ],
             [
              0.3333333333333333,
              "#9c179e"
             ],
             [
              0.4444444444444444,
              "#bd3786"
             ],
             [
              0.5555555555555556,
              "#d8576b"
             ],
             [
              0.6666666666666666,
              "#ed7953"
             ],
             [
              0.7777777777777778,
              "#fb9f3a"
             ],
             [
              0.8888888888888888,
              "#fdca26"
             ],
             [
              1,
              "#f0f921"
             ]
            ],
            "type": "histogram2dcontour"
           }
          ],
          "mesh3d": [
           {
            "colorbar": {
             "outlinewidth": 0,
             "ticks": ""
            },
            "type": "mesh3d"
           }
          ],
          "parcoords": [
           {
            "line": {
             "colorbar": {
              "outlinewidth": 0,
              "ticks": ""
             }
            },
            "type": "parcoords"
           }
          ],
          "pie": [
           {
            "automargin": true,
            "type": "pie"
           }
          ],
          "scatter": [
           {
            "fillpattern": {
             "fillmode": "overlay",
             "size": 10,
             "solidity": 0.2
            },
            "type": "scatter"
           }
          ],
          "scatter3d": [
           {
            "line": {
             "colorbar": {
              "outlinewidth": 0,
              "ticks": ""
             }
            },
            "marker": {
             "colorbar": {
              "outlinewidth": 0,
              "ticks": ""
             }
            },
            "type": "scatter3d"
           }
          ],
          "scattercarpet": [
           {
            "marker": {
             "colorbar": {
              "outlinewidth": 0,
              "ticks": ""
             }
            },
            "type": "scattercarpet"
           }
          ],
          "scattergeo": [
           {
            "marker": {
             "colorbar": {
              "outlinewidth": 0,
              "ticks": ""
             }
            },
            "type": "scattergeo"
           }
          ],
          "scattergl": [
           {
            "marker": {
             "colorbar": {
              "outlinewidth": 0,
              "ticks": ""
             }
            },
            "type": "scattergl"
           }
          ],
          "scattermapbox": [
           {
            "marker": {
             "colorbar": {
              "outlinewidth": 0,
              "ticks": ""
             }
            },
            "type": "scattermapbox"
           }
          ],
          "scatterpolar": [
           {
            "marker": {
             "colorbar": {
              "outlinewidth": 0,
              "ticks": ""
             }
            },
            "type": "scatterpolar"
           }
          ],
          "scatterpolargl": [
           {
            "marker": {
             "colorbar": {
              "outlinewidth": 0,
              "ticks": ""
             }
            },
            "type": "scatterpolargl"
           }
          ],
          "scatterternary": [
           {
            "marker": {
             "colorbar": {
              "outlinewidth": 0,
              "ticks": ""
             }
            },
            "type": "scatterternary"
           }
          ],
          "surface": [
           {
            "colorbar": {
             "outlinewidth": 0,
             "ticks": ""
            },
            "colorscale": [
             [
              0,
              "#0d0887"
             ],
             [
              0.1111111111111111,
              "#46039f"
             ],
             [
              0.2222222222222222,
              "#7201a8"
             ],
             [
              0.3333333333333333,
              "#9c179e"
             ],
             [
              0.4444444444444444,
              "#bd3786"
             ],
             [
              0.5555555555555556,
              "#d8576b"
             ],
             [
              0.6666666666666666,
              "#ed7953"
             ],
             [
              0.7777777777777778,
              "#fb9f3a"
             ],
             [
              0.8888888888888888,
              "#fdca26"
             ],
             [
              1,
              "#f0f921"
             ]
            ],
            "type": "surface"
           }
          ],
          "table": [
           {
            "cells": {
             "fill": {
              "color": "#EBF0F8"
             },
             "line": {
              "color": "white"
             }
            },
            "header": {
             "fill": {
              "color": "#C8D4E3"
             },
             "line": {
              "color": "white"
             }
            },
            "type": "table"
           }
          ]
         },
         "layout": {
          "annotationdefaults": {
           "arrowcolor": "#2a3f5f",
           "arrowhead": 0,
           "arrowwidth": 1
          },
          "autotypenumbers": "strict",
          "coloraxis": {
           "colorbar": {
            "outlinewidth": 0,
            "ticks": ""
           }
          },
          "colorscale": {
           "diverging": [
            [
             0,
             "#8e0152"
            ],
            [
             0.1,
             "#c51b7d"
            ],
            [
             0.2,
             "#de77ae"
            ],
            [
             0.3,
             "#f1b6da"
            ],
            [
             0.4,
             "#fde0ef"
            ],
            [
             0.5,
             "#f7f7f7"
            ],
            [
             0.6,
             "#e6f5d0"
            ],
            [
             0.7,
             "#b8e186"
            ],
            [
             0.8,
             "#7fbc41"
            ],
            [
             0.9,
             "#4d9221"
            ],
            [
             1,
             "#276419"
            ]
           ],
           "sequential": [
            [
             0,
             "#0d0887"
            ],
            [
             0.1111111111111111,
             "#46039f"
            ],
            [
             0.2222222222222222,
             "#7201a8"
            ],
            [
             0.3333333333333333,
             "#9c179e"
            ],
            [
             0.4444444444444444,
             "#bd3786"
            ],
            [
             0.5555555555555556,
             "#d8576b"
            ],
            [
             0.6666666666666666,
             "#ed7953"
            ],
            [
             0.7777777777777778,
             "#fb9f3a"
            ],
            [
             0.8888888888888888,
             "#fdca26"
            ],
            [
             1,
             "#f0f921"
            ]
           ],
           "sequentialminus": [
            [
             0,
             "#0d0887"
            ],
            [
             0.1111111111111111,
             "#46039f"
            ],
            [
             0.2222222222222222,
             "#7201a8"
            ],
            [
             0.3333333333333333,
             "#9c179e"
            ],
            [
             0.4444444444444444,
             "#bd3786"
            ],
            [
             0.5555555555555556,
             "#d8576b"
            ],
            [
             0.6666666666666666,
             "#ed7953"
            ],
            [
             0.7777777777777778,
             "#fb9f3a"
            ],
            [
             0.8888888888888888,
             "#fdca26"
            ],
            [
             1,
             "#f0f921"
            ]
           ]
          },
          "colorway": [
           "#636efa",
           "#EF553B",
           "#00cc96",
           "#ab63fa",
           "#FFA15A",
           "#19d3f3",
           "#FF6692",
           "#B6E880",
           "#FF97FF",
           "#FECB52"
          ],
          "font": {
           "color": "#2a3f5f"
          },
          "geo": {
           "bgcolor": "white",
           "lakecolor": "white",
           "landcolor": "#E5ECF6",
           "showlakes": true,
           "showland": true,
           "subunitcolor": "white"
          },
          "hoverlabel": {
           "align": "left"
          },
          "hovermode": "closest",
          "mapbox": {
           "style": "light"
          },
          "paper_bgcolor": "white",
          "plot_bgcolor": "#E5ECF6",
          "polar": {
           "angularaxis": {
            "gridcolor": "white",
            "linecolor": "white",
            "ticks": ""
           },
           "bgcolor": "#E5ECF6",
           "radialaxis": {
            "gridcolor": "white",
            "linecolor": "white",
            "ticks": ""
           }
          },
          "scene": {
           "xaxis": {
            "backgroundcolor": "#E5ECF6",
            "gridcolor": "white",
            "gridwidth": 2,
            "linecolor": "white",
            "showbackground": true,
            "ticks": "",
            "zerolinecolor": "white"
           },
           "yaxis": {
            "backgroundcolor": "#E5ECF6",
            "gridcolor": "white",
            "gridwidth": 2,
            "linecolor": "white",
            "showbackground": true,
            "ticks": "",
            "zerolinecolor": "white"
           },
           "zaxis": {
            "backgroundcolor": "#E5ECF6",
            "gridcolor": "white",
            "gridwidth": 2,
            "linecolor": "white",
            "showbackground": true,
            "ticks": "",
            "zerolinecolor": "white"
           }
          },
          "shapedefaults": {
           "line": {
            "color": "#2a3f5f"
           }
          },
          "ternary": {
           "aaxis": {
            "gridcolor": "white",
            "linecolor": "white",
            "ticks": ""
           },
           "baxis": {
            "gridcolor": "white",
            "linecolor": "white",
            "ticks": ""
           },
           "bgcolor": "#E5ECF6",
           "caxis": {
            "gridcolor": "white",
            "linecolor": "white",
            "ticks": ""
           }
          },
          "title": {
           "x": 0.05
          },
          "xaxis": {
           "automargin": true,
           "gridcolor": "white",
           "linecolor": "white",
           "ticks": "",
           "title": {
            "standoff": 15
           },
           "zerolinecolor": "white",
           "zerolinewidth": 2
          },
          "yaxis": {
           "automargin": true,
           "gridcolor": "white",
           "linecolor": "white",
           "ticks": "",
           "title": {
            "standoff": 15
           },
           "zerolinecolor": "white",
           "zerolinewidth": 2
          }
         }
        },
        "title": {
         "text": "Number of Medals by Country in Summer Games"
        }
       }
      }
     },
     "metadata": {},
     "output_type": "display_data"
    }
   ],
   "source": [
    "# Using plotly express to plot distribution of medals in summer games by all world map\n",
    "df_medals = df_athletes[df_athletes['Season'] == 'Summer'] \n",
    "df_medals_count = df_medals.groupby('NOC').size().reset_index(name='Medal_Count')\n",
    "df_medals = pd.merge(df_medals_count, df_regions, on='NOC', how='left')\n",
    "\n",
    "\n",
    "fig = px.choropleth(df_medals,\n",
    "                    locations='NOC', \n",
    "                    locationmode='ISO-3', \n",
    "                    color='Medal_Count',  # Replace 'Medal_Count' with the actual column name\n",
    "                    color_continuous_scale='Oranges', \n",
    "                    scope='world', \n",
    "                    title='Number of Medals by Country in Summer Games')\n",
    "fig.show()\n"
   ]
  },
  {
   "cell_type": "code",
   "execution_count": null,
   "metadata": {},
   "outputs": [],
   "source": []
  },
  {
   "cell_type": "code",
   "execution_count": 130,
   "metadata": {},
   "outputs": [
    {
     "data": {
      "application/vnd.plotly.v1+json": {
       "config": {
        "plotlyServerURL": "https://plot.ly"
       },
       "data": [
        {
         "hovertemplate": "Gender=female_count<br>Year=%{x}<br>Count=%{y}<extra></extra>",
         "legendgroup": "female_count",
         "line": {
          "color": "red",
          "dash": "solid"
         },
         "marker": {
          "symbol": "circle"
         },
         "mode": "markers+lines",
         "name": "female_count",
         "orientation": "v",
         "showlegend": true,
         "type": "scatter",
         "x": [
          1896,
          1900,
          1904,
          1906,
          1908,
          1912,
          1920,
          1924,
          1928,
          1932,
          1936,
          1948,
          1952,
          1956,
          1960,
          1964,
          1968,
          1972,
          1976,
          1980,
          1984,
          1988,
          1992,
          1994,
          1996,
          1998,
          2000,
          2002,
          2004,
          2006,
          2008,
          2010,
          2012,
          2014,
          2016
         ],
         "xaxis": "x",
         "y": [
          0,
          33,
          16,
          11,
          47,
          87,
          134,
          261,
          437,
          369,
          549,
          761,
          1682,
          1139,
          1730,
          1752,
          2193,
          2608,
          2606,
          2186,
          2983,
          4223,
          5178,
          1105,
          5008,
          1384,
          5431,
          1582,
          5546,
          1757,
          5816,
          1847,
          5815,
          2023,
          6223
         ],
         "yaxis": "y"
        },
        {
         "hovertemplate": "Gender=male_count<br>Year=%{x}<br>Count=%{y}<extra></extra>",
         "legendgroup": "male_count",
         "line": {
          "color": "blue",
          "dash": "solid"
         },
         "marker": {
          "symbol": "circle"
         },
         "mode": "markers+lines",
         "name": "male_count",
         "orientation": "v",
         "showlegend": true,
         "type": "scatter",
         "x": [
          1896,
          1900,
          1904,
          1906,
          1908,
          1912,
          1920,
          1924,
          1928,
          1932,
          1936,
          1948,
          1952,
          1956,
          1960,
          1964,
          1968,
          1972,
          1976,
          1980,
          1984,
          1988,
          1992,
          1994,
          1996,
          1998,
          2000,
          2002,
          2004,
          2006,
          2008,
          2010,
          2012,
          2014,
          2016
         ],
         "xaxis": "x",
         "y": [
          380,
          1903,
          1285,
          1722,
          3054,
          3953,
          4158,
          5432,
          5137,
          2952,
          6852,
          6719,
          7676,
          5295,
          7505,
          7728,
          8286,
          9351,
          7896,
          6751,
          8605,
          10453,
          11235,
          2055,
          8772,
          2221,
          8390,
          2527,
          7897,
          2625,
          7786,
          2555,
          7105,
          2868,
          7465
         ],
         "yaxis": "y"
        }
       ],
       "layout": {
        "legend": {
         "title": {
          "text": "Gender"
         },
         "tracegroupgap": 0
        },
        "margin": {
         "t": 60
        },
        "template": {
         "data": {
          "bar": [
           {
            "error_x": {
             "color": "#2a3f5f"
            },
            "error_y": {
             "color": "#2a3f5f"
            },
            "marker": {
             "line": {
              "color": "#E5ECF6",
              "width": 0.5
             },
             "pattern": {
              "fillmode": "overlay",
              "size": 10,
              "solidity": 0.2
             }
            },
            "type": "bar"
           }
          ],
          "barpolar": [
           {
            "marker": {
             "line": {
              "color": "#E5ECF6",
              "width": 0.5
             },
             "pattern": {
              "fillmode": "overlay",
              "size": 10,
              "solidity": 0.2
             }
            },
            "type": "barpolar"
           }
          ],
          "carpet": [
           {
            "aaxis": {
             "endlinecolor": "#2a3f5f",
             "gridcolor": "white",
             "linecolor": "white",
             "minorgridcolor": "white",
             "startlinecolor": "#2a3f5f"
            },
            "baxis": {
             "endlinecolor": "#2a3f5f",
             "gridcolor": "white",
             "linecolor": "white",
             "minorgridcolor": "white",
             "startlinecolor": "#2a3f5f"
            },
            "type": "carpet"
           }
          ],
          "choropleth": [
           {
            "colorbar": {
             "outlinewidth": 0,
             "ticks": ""
            },
            "type": "choropleth"
           }
          ],
          "contour": [
           {
            "colorbar": {
             "outlinewidth": 0,
             "ticks": ""
            },
            "colorscale": [
             [
              0,
              "#0d0887"
             ],
             [
              0.1111111111111111,
              "#46039f"
             ],
             [
              0.2222222222222222,
              "#7201a8"
             ],
             [
              0.3333333333333333,
              "#9c179e"
             ],
             [
              0.4444444444444444,
              "#bd3786"
             ],
             [
              0.5555555555555556,
              "#d8576b"
             ],
             [
              0.6666666666666666,
              "#ed7953"
             ],
             [
              0.7777777777777778,
              "#fb9f3a"
             ],
             [
              0.8888888888888888,
              "#fdca26"
             ],
             [
              1,
              "#f0f921"
             ]
            ],
            "type": "contour"
           }
          ],
          "contourcarpet": [
           {
            "colorbar": {
             "outlinewidth": 0,
             "ticks": ""
            },
            "type": "contourcarpet"
           }
          ],
          "heatmap": [
           {
            "colorbar": {
             "outlinewidth": 0,
             "ticks": ""
            },
            "colorscale": [
             [
              0,
              "#0d0887"
             ],
             [
              0.1111111111111111,
              "#46039f"
             ],
             [
              0.2222222222222222,
              "#7201a8"
             ],
             [
              0.3333333333333333,
              "#9c179e"
             ],
             [
              0.4444444444444444,
              "#bd3786"
             ],
             [
              0.5555555555555556,
              "#d8576b"
             ],
             [
              0.6666666666666666,
              "#ed7953"
             ],
             [
              0.7777777777777778,
              "#fb9f3a"
             ],
             [
              0.8888888888888888,
              "#fdca26"
             ],
             [
              1,
              "#f0f921"
             ]
            ],
            "type": "heatmap"
           }
          ],
          "heatmapgl": [
           {
            "colorbar": {
             "outlinewidth": 0,
             "ticks": ""
            },
            "colorscale": [
             [
              0,
              "#0d0887"
             ],
             [
              0.1111111111111111,
              "#46039f"
             ],
             [
              0.2222222222222222,
              "#7201a8"
             ],
             [
              0.3333333333333333,
              "#9c179e"
             ],
             [
              0.4444444444444444,
              "#bd3786"
             ],
             [
              0.5555555555555556,
              "#d8576b"
             ],
             [
              0.6666666666666666,
              "#ed7953"
             ],
             [
              0.7777777777777778,
              "#fb9f3a"
             ],
             [
              0.8888888888888888,
              "#fdca26"
             ],
             [
              1,
              "#f0f921"
             ]
            ],
            "type": "heatmapgl"
           }
          ],
          "histogram": [
           {
            "marker": {
             "pattern": {
              "fillmode": "overlay",
              "size": 10,
              "solidity": 0.2
             }
            },
            "type": "histogram"
           }
          ],
          "histogram2d": [
           {
            "colorbar": {
             "outlinewidth": 0,
             "ticks": ""
            },
            "colorscale": [
             [
              0,
              "#0d0887"
             ],
             [
              0.1111111111111111,
              "#46039f"
             ],
             [
              0.2222222222222222,
              "#7201a8"
             ],
             [
              0.3333333333333333,
              "#9c179e"
             ],
             [
              0.4444444444444444,
              "#bd3786"
             ],
             [
              0.5555555555555556,
              "#d8576b"
             ],
             [
              0.6666666666666666,
              "#ed7953"
             ],
             [
              0.7777777777777778,
              "#fb9f3a"
             ],
             [
              0.8888888888888888,
              "#fdca26"
             ],
             [
              1,
              "#f0f921"
             ]
            ],
            "type": "histogram2d"
           }
          ],
          "histogram2dcontour": [
           {
            "colorbar": {
             "outlinewidth": 0,
             "ticks": ""
            },
            "colorscale": [
             [
              0,
              "#0d0887"
             ],
             [
              0.1111111111111111,
              "#46039f"
             ],
             [
              0.2222222222222222,
              "#7201a8"
             ],
             [
              0.3333333333333333,
              "#9c179e"
             ],
             [
              0.4444444444444444,
              "#bd3786"
             ],
             [
              0.5555555555555556,
              "#d8576b"
             ],
             [
              0.6666666666666666,
              "#ed7953"
             ],
             [
              0.7777777777777778,
              "#fb9f3a"
             ],
             [
              0.8888888888888888,
              "#fdca26"
             ],
             [
              1,
              "#f0f921"
             ]
            ],
            "type": "histogram2dcontour"
           }
          ],
          "mesh3d": [
           {
            "colorbar": {
             "outlinewidth": 0,
             "ticks": ""
            },
            "type": "mesh3d"
           }
          ],
          "parcoords": [
           {
            "line": {
             "colorbar": {
              "outlinewidth": 0,
              "ticks": ""
             }
            },
            "type": "parcoords"
           }
          ],
          "pie": [
           {
            "automargin": true,
            "type": "pie"
           }
          ],
          "scatter": [
           {
            "fillpattern": {
             "fillmode": "overlay",
             "size": 10,
             "solidity": 0.2
            },
            "type": "scatter"
           }
          ],
          "scatter3d": [
           {
            "line": {
             "colorbar": {
              "outlinewidth": 0,
              "ticks": ""
             }
            },
            "marker": {
             "colorbar": {
              "outlinewidth": 0,
              "ticks": ""
             }
            },
            "type": "scatter3d"
           }
          ],
          "scattercarpet": [
           {
            "marker": {
             "colorbar": {
              "outlinewidth": 0,
              "ticks": ""
             }
            },
            "type": "scattercarpet"
           }
          ],
          "scattergeo": [
           {
            "marker": {
             "colorbar": {
              "outlinewidth": 0,
              "ticks": ""
             }
            },
            "type": "scattergeo"
           }
          ],
          "scattergl": [
           {
            "marker": {
             "colorbar": {
              "outlinewidth": 0,
              "ticks": ""
             }
            },
            "type": "scattergl"
           }
          ],
          "scattermapbox": [
           {
            "marker": {
             "colorbar": {
              "outlinewidth": 0,
              "ticks": ""
             }
            },
            "type": "scattermapbox"
           }
          ],
          "scatterpolar": [
           {
            "marker": {
             "colorbar": {
              "outlinewidth": 0,
              "ticks": ""
             }
            },
            "type": "scatterpolar"
           }
          ],
          "scatterpolargl": [
           {
            "marker": {
             "colorbar": {
              "outlinewidth": 0,
              "ticks": ""
             }
            },
            "type": "scatterpolargl"
           }
          ],
          "scatterternary": [
           {
            "marker": {
             "colorbar": {
              "outlinewidth": 0,
              "ticks": ""
             }
            },
            "type": "scatterternary"
           }
          ],
          "surface": [
           {
            "colorbar": {
             "outlinewidth": 0,
             "ticks": ""
            },
            "colorscale": [
             [
              0,
              "#0d0887"
             ],
             [
              0.1111111111111111,
              "#46039f"
             ],
             [
              0.2222222222222222,
              "#7201a8"
             ],
             [
              0.3333333333333333,
              "#9c179e"
             ],
             [
              0.4444444444444444,
              "#bd3786"
             ],
             [
              0.5555555555555556,
              "#d8576b"
             ],
             [
              0.6666666666666666,
              "#ed7953"
             ],
             [
              0.7777777777777778,
              "#fb9f3a"
             ],
             [
              0.8888888888888888,
              "#fdca26"
             ],
             [
              1,
              "#f0f921"
             ]
            ],
            "type": "surface"
           }
          ],
          "table": [
           {
            "cells": {
             "fill": {
              "color": "#EBF0F8"
             },
             "line": {
              "color": "white"
             }
            },
            "header": {
             "fill": {
              "color": "#C8D4E3"
             },
             "line": {
              "color": "white"
             }
            },
            "type": "table"
           }
          ]
         },
         "layout": {
          "annotationdefaults": {
           "arrowcolor": "#2a3f5f",
           "arrowhead": 0,
           "arrowwidth": 1
          },
          "autotypenumbers": "strict",
          "coloraxis": {
           "colorbar": {
            "outlinewidth": 0,
            "ticks": ""
           }
          },
          "colorscale": {
           "diverging": [
            [
             0,
             "#8e0152"
            ],
            [
             0.1,
             "#c51b7d"
            ],
            [
             0.2,
             "#de77ae"
            ],
            [
             0.3,
             "#f1b6da"
            ],
            [
             0.4,
             "#fde0ef"
            ],
            [
             0.5,
             "#f7f7f7"
            ],
            [
             0.6,
             "#e6f5d0"
            ],
            [
             0.7,
             "#b8e186"
            ],
            [
             0.8,
             "#7fbc41"
            ],
            [
             0.9,
             "#4d9221"
            ],
            [
             1,
             "#276419"
            ]
           ],
           "sequential": [
            [
             0,
             "#0d0887"
            ],
            [
             0.1111111111111111,
             "#46039f"
            ],
            [
             0.2222222222222222,
             "#7201a8"
            ],
            [
             0.3333333333333333,
             "#9c179e"
            ],
            [
             0.4444444444444444,
             "#bd3786"
            ],
            [
             0.5555555555555556,
             "#d8576b"
            ],
            [
             0.6666666666666666,
             "#ed7953"
            ],
            [
             0.7777777777777778,
             "#fb9f3a"
            ],
            [
             0.8888888888888888,
             "#fdca26"
            ],
            [
             1,
             "#f0f921"
            ]
           ],
           "sequentialminus": [
            [
             0,
             "#0d0887"
            ],
            [
             0.1111111111111111,
             "#46039f"
            ],
            [
             0.2222222222222222,
             "#7201a8"
            ],
            [
             0.3333333333333333,
             "#9c179e"
            ],
            [
             0.4444444444444444,
             "#bd3786"
            ],
            [
             0.5555555555555556,
             "#d8576b"
            ],
            [
             0.6666666666666666,
             "#ed7953"
            ],
            [
             0.7777777777777778,
             "#fb9f3a"
            ],
            [
             0.8888888888888888,
             "#fdca26"
            ],
            [
             1,
             "#f0f921"
            ]
           ]
          },
          "colorway": [
           "#636efa",
           "#EF553B",
           "#00cc96",
           "#ab63fa",
           "#FFA15A",
           "#19d3f3",
           "#FF6692",
           "#B6E880",
           "#FF97FF",
           "#FECB52"
          ],
          "font": {
           "color": "#2a3f5f"
          },
          "geo": {
           "bgcolor": "white",
           "lakecolor": "white",
           "landcolor": "#E5ECF6",
           "showlakes": true,
           "showland": true,
           "subunitcolor": "white"
          },
          "hoverlabel": {
           "align": "left"
          },
          "hovermode": "closest",
          "mapbox": {
           "style": "light"
          },
          "paper_bgcolor": "white",
          "plot_bgcolor": "#E5ECF6",
          "polar": {
           "angularaxis": {
            "gridcolor": "white",
            "linecolor": "white",
            "ticks": ""
           },
           "bgcolor": "#E5ECF6",
           "radialaxis": {
            "gridcolor": "white",
            "linecolor": "white",
            "ticks": ""
           }
          },
          "scene": {
           "xaxis": {
            "backgroundcolor": "#E5ECF6",
            "gridcolor": "white",
            "gridwidth": 2,
            "linecolor": "white",
            "showbackground": true,
            "ticks": "",
            "zerolinecolor": "white"
           },
           "yaxis": {
            "backgroundcolor": "#E5ECF6",
            "gridcolor": "white",
            "gridwidth": 2,
            "linecolor": "white",
            "showbackground": true,
            "ticks": "",
            "zerolinecolor": "white"
           },
           "zaxis": {
            "backgroundcolor": "#E5ECF6",
            "gridcolor": "white",
            "gridwidth": 2,
            "linecolor": "white",
            "showbackground": true,
            "ticks": "",
            "zerolinecolor": "white"
           }
          },
          "shapedefaults": {
           "line": {
            "color": "#2a3f5f"
           }
          },
          "ternary": {
           "aaxis": {
            "gridcolor": "white",
            "linecolor": "white",
            "ticks": ""
           },
           "baxis": {
            "gridcolor": "white",
            "linecolor": "white",
            "ticks": ""
           },
           "bgcolor": "#E5ECF6",
           "caxis": {
            "gridcolor": "white",
            "linecolor": "white",
            "ticks": ""
           }
          },
          "title": {
           "x": 0.05
          },
          "xaxis": {
           "automargin": true,
           "gridcolor": "white",
           "linecolor": "white",
           "ticks": "",
           "title": {
            "standoff": 15
           },
           "zerolinecolor": "white",
           "zerolinewidth": 2
          },
          "yaxis": {
           "automargin": true,
           "gridcolor": "white",
           "linecolor": "white",
           "ticks": "",
           "title": {
            "standoff": 15
           },
           "zerolinecolor": "white",
           "zerolinewidth": 2
          }
         }
        },
        "xaxis": {
         "anchor": "y",
         "domain": [
          0,
          1
         ],
         "title": {
          "text": "Year"
         }
        },
        "yaxis": {
         "anchor": "x",
         "domain": [
          0,
          1
         ],
         "title": {
          "text": "Count"
         }
        }
       }
      }
     },
     "metadata": {},
     "output_type": "display_data"
    }
   ],
   "source": [
    "# The reperesentation of male and female during the years\n",
    "df_gender_distribution = pd.read_sql(\n",
    "    '''\n",
    "         SELECT\n",
    "            SUM(CASE WHEN sex='M' THEN 1 ELSE 0 END)    AS male_count,\n",
    "            SUM(CASE WHEN sex='F' THEN 1 ELSE 0 END)    AS female_count,\n",
    "            Year\n",
    "        FROM\n",
    "            AthletesTable\n",
    "        GROUP BY\n",
    "            Year \n",
    "        ORDER BY \n",
    "            Year                  \n",
    "    ''', con=engine)\n",
    "\n",
    "# Long-form DataFrame is expected for Plotly Express, so we melt the DataFrame to long form\n",
    "df_long = df_gender_distribution.melt(id_vars='Year', value_vars=['female_count', 'male_count'], var_name='Gender', value_name='Count')\n",
    "\n",
    "# Now, we can plot using Plotly Express\n",
    "fig = px.line(df_long, x='Year', y='Count', color='Gender', line_group='Gender', markers=True, \n",
    "              color_discrete_map={'female_count': 'red', 'male_count': 'blue'})\n",
    "\n",
    "fig.show()\n"
   ]
  },
  {
   "cell_type": "code",
   "execution_count": 131,
   "metadata": {},
   "outputs": [
    {
     "data": {
      "text/html": [
       "<div>\n",
       "<style scoped>\n",
       "    .dataframe tbody tr th:only-of-type {\n",
       "        vertical-align: middle;\n",
       "    }\n",
       "\n",
       "    .dataframe tbody tr th {\n",
       "        vertical-align: top;\n",
       "    }\n",
       "\n",
       "    .dataframe thead th {\n",
       "        text-align: right;\n",
       "    }\n",
       "</style>\n",
       "<table border=\"1\" class=\"dataframe\">\n",
       "  <thead>\n",
       "    <tr style=\"text-align: right;\">\n",
       "      <th></th>\n",
       "      <th>NOC</th>\n",
       "      <th>medals_count</th>\n",
       "    </tr>\n",
       "  </thead>\n",
       "  <tbody>\n",
       "    <tr>\n",
       "      <th>0</th>\n",
       "      <td>USA</td>\n",
       "      <td>5637</td>\n",
       "    </tr>\n",
       "    <tr>\n",
       "      <th>1</th>\n",
       "      <td>URS</td>\n",
       "      <td>2503</td>\n",
       "    </tr>\n",
       "    <tr>\n",
       "      <th>2</th>\n",
       "      <td>GER</td>\n",
       "      <td>2165</td>\n",
       "    </tr>\n",
       "    <tr>\n",
       "      <th>3</th>\n",
       "      <td>GBR</td>\n",
       "      <td>2068</td>\n",
       "    </tr>\n",
       "    <tr>\n",
       "      <th>4</th>\n",
       "      <td>FRA</td>\n",
       "      <td>1777</td>\n",
       "    </tr>\n",
       "    <tr>\n",
       "      <th>5</th>\n",
       "      <td>ITA</td>\n",
       "      <td>1637</td>\n",
       "    </tr>\n",
       "    <tr>\n",
       "      <th>6</th>\n",
       "      <td>SWE</td>\n",
       "      <td>1536</td>\n",
       "    </tr>\n",
       "    <tr>\n",
       "      <th>7</th>\n",
       "      <td>CAN</td>\n",
       "      <td>1352</td>\n",
       "    </tr>\n",
       "    <tr>\n",
       "      <th>8</th>\n",
       "      <td>AUS</td>\n",
       "      <td>1320</td>\n",
       "    </tr>\n",
       "    <tr>\n",
       "      <th>9</th>\n",
       "      <td>RUS</td>\n",
       "      <td>1165</td>\n",
       "    </tr>\n",
       "  </tbody>\n",
       "</table>\n",
       "</div>"
      ],
      "text/plain": [
       "   NOC  medals_count\n",
       "0  USA          5637\n",
       "1  URS          2503\n",
       "2  GER          2165\n",
       "3  GBR          2068\n",
       "4  FRA          1777\n",
       "5  ITA          1637\n",
       "6  SWE          1536\n",
       "7  CAN          1352\n",
       "8  AUS          1320\n",
       "9  RUS          1165"
      ]
     },
     "execution_count": 131,
     "metadata": {},
     "output_type": "execute_result"
    }
   ],
   "source": [
    "# Counting number of medals by country\n",
    "df_medals = pd.read_sql(\n",
    "    '''\n",
    "    SELECT\n",
    "        NOC,\n",
    "        COUNT(*) AS medals_count\n",
    "    FROM\n",
    "        AthletesTable\n",
    "    WHERE\n",
    "        Medal IS NOT NULL\n",
    "    GROUP BY\n",
    "        NOC\n",
    "    ORDER BY\n",
    "        medals_count DESC\n",
    "    LIMIT 10\n",
    "    ''', con=engine\n",
    ")\n",
    "df_medals"
   ]
  },
  {
   "cell_type": "code",
   "execution_count": 132,
   "metadata": {},
   "outputs": [
    {
     "data": {
      "text/plain": [
       "<Axes: xlabel='Age_Group'>"
      ]
     },
     "execution_count": 132,
     "metadata": {},
     "output_type": "execute_result"
    },
    {
     "data": {
      "image/png": "[encoded data removed]",
      "text/plain": [
       "<Figure size 640x480 with 1 Axes>"
      ]
     },
     "metadata": {},
     "output_type": "display_data"
    }
   ],
   "source": [
    "avg_years = pd.read_sql(\n",
    "    '''\n",
    "    SELECT\n",
    "        case\n",
    "          when Age between 0 and 22 then '<=22'\n",
    "          when Age between 23 and 27 then '23-27'\n",
    "          when Age between 28 and 33 then '28-32'\n",
    "          else '33+'\n",
    "        end as Age_Group,\n",
    "        Count(*) as Total\n",
    "    FROM\n",
    "        AthletesTable\n",
    "    WHERE\n",
    "        Age IS NOT NULL AND Medal IS NOT NULL\n",
    "\n",
    "    GROUP BY\n",
    "        Age_Group\n",
    "    ORDER BY\n",
    "        Total DESC\n",
    " \n",
    "    ''', con=engine)\n",
    "avg_years.plot.bar(x='Age_Group', y='Total', rot=0)\n"
   ]
  },
  {
   "cell_type": "code",
   "execution_count": 133,
   "metadata": {},
   "outputs": [
    {
     "name": "stdout",
     "output_type": "stream",
     "text": [
      "<class 'pandas.core.frame.DataFrame'>\n",
      "RangeIndex: 271116 entries, 0 to 271115\n",
      "Data columns (total 14 columns):\n",
      " #   Column    Non-Null Count   Dtype  \n",
      "---  ------    --------------   -----  \n",
      " 0   ID        271116 non-null  int64  \n",
      " 1   Event_ID  271116 non-null  int64  \n",
      " 2   Name      271116 non-null  object \n",
      " 3   Sex       271116 non-null  object \n",
      " 4   Age       261642 non-null  float64\n",
      " 5   Height    210945 non-null  float64\n",
      " 6   Weight    208241 non-null  float64\n",
      " 7   NOC       271116 non-null  object \n",
      " 8   Year      271116 non-null  int64  \n",
      " 9   Season    271116 non-null  object \n",
      " 10  City      271116 non-null  object \n",
      " 11  Sport     271116 non-null  object \n",
      " 12  Event     271116 non-null  object \n",
      " 13  Medal     39783 non-null   object \n",
      "dtypes: float64(3), int64(3), object(8)\n",
      "memory usage: 29.0+ MB\n"
     ]
    }
   ],
   "source": [
    "Athletes.info()"
   ]
  },
  {
   "cell_type": "code",
   "execution_count": 134,
   "metadata": {},
   "outputs": [
    {
     "data": {
      "text/plain": [
       "Sport\n",
       "Athletics        38624\n",
       "Gymnastics       26707\n",
       "Swimming         23195\n",
       "Shooting         11448\n",
       "Cycling          10859\n",
       "                 ...  \n",
       "Racquets            12\n",
       "Jeu De Paume        11\n",
       "Roque                4\n",
       "Basque Pelota        2\n",
       "Aeronautics          1\n",
       "Name: count, Length: 66, dtype: int64"
      ]
     },
     "execution_count": 134,
     "metadata": {},
     "output_type": "execute_result"
    }
   ],
   "source": [
    "df_athletes['Sport'].value_counts()"
   ]
  },
  {
   "cell_type": "code",
   "execution_count": 135,
   "metadata": {},
   "outputs": [
    {
     "data": {
      "text/html": [
       "<div>\n",
       "<style scoped>\n",
       "    .dataframe tbody tr th:only-of-type {\n",
       "        vertical-align: middle;\n",
       "    }\n",
       "\n",
       "    .dataframe tbody tr th {\n",
       "        vertical-align: top;\n",
       "    }\n",
       "\n",
       "    .dataframe thead th {\n",
       "        text-align: right;\n",
       "    }\n",
       "</style>\n",
       "<table border=\"1\" class=\"dataframe\">\n",
       "  <thead>\n",
       "    <tr style=\"text-align: right;\">\n",
       "      <th></th>\n",
       "      <th>ID</th>\n",
       "      <th>Name</th>\n",
       "      <th>Sex</th>\n",
       "      <th>Age</th>\n",
       "      <th>Height</th>\n",
       "      <th>Weight</th>\n",
       "      <th>Team</th>\n",
       "      <th>NOC</th>\n",
       "      <th>Games</th>\n",
       "      <th>Year</th>\n",
       "      <th>Season</th>\n",
       "      <th>City</th>\n",
       "      <th>Sport</th>\n",
       "      <th>Event</th>\n",
       "      <th>Medal</th>\n",
       "    </tr>\n",
       "  </thead>\n",
       "  <tbody>\n",
       "    <tr>\n",
       "      <th>0</th>\n",
       "      <td>1</td>\n",
       "      <td>A Dijiang</td>\n",
       "      <td>1</td>\n",
       "      <td>24.0</td>\n",
       "      <td>180.0</td>\n",
       "      <td>80.0</td>\n",
       "      <td>China</td>\n",
       "      <td>CHN</td>\n",
       "      <td>1992 Summer</td>\n",
       "      <td>1992</td>\n",
       "      <td>1</td>\n",
       "      <td>Barcelona</td>\n",
       "      <td>Basketball</td>\n",
       "      <td>Basketball Men's Basketball</td>\n",
       "      <td>3</td>\n",
       "    </tr>\n",
       "    <tr>\n",
       "      <th>1</th>\n",
       "      <td>2</td>\n",
       "      <td>A Lamusi</td>\n",
       "      <td>1</td>\n",
       "      <td>23.0</td>\n",
       "      <td>170.0</td>\n",
       "      <td>60.0</td>\n",
       "      <td>China</td>\n",
       "      <td>CHN</td>\n",
       "      <td>2012 Summer</td>\n",
       "      <td>2012</td>\n",
       "      <td>1</td>\n",
       "      <td>London</td>\n",
       "      <td>Judo</td>\n",
       "      <td>Judo Men's Extra-Lightweight</td>\n",
       "      <td>3</td>\n",
       "    </tr>\n",
       "    <tr>\n",
       "      <th>2</th>\n",
       "      <td>3</td>\n",
       "      <td>Gunnar Nielsen Aaby</td>\n",
       "      <td>1</td>\n",
       "      <td>24.0</td>\n",
       "      <td>NaN</td>\n",
       "      <td>NaN</td>\n",
       "      <td>Denmark</td>\n",
       "      <td>DEN</td>\n",
       "      <td>1920 Summer</td>\n",
       "      <td>1920</td>\n",
       "      <td>1</td>\n",
       "      <td>Antwerpen</td>\n",
       "      <td>Football</td>\n",
       "      <td>Football Men's Football</td>\n",
       "      <td>3</td>\n",
       "    </tr>\n",
       "    <tr>\n",
       "      <th>3</th>\n",
       "      <td>4</td>\n",
       "      <td>Edgar Lindenau Aabye</td>\n",
       "      <td>1</td>\n",
       "      <td>34.0</td>\n",
       "      <td>NaN</td>\n",
       "      <td>NaN</td>\n",
       "      <td>Denmark/Sweden</td>\n",
       "      <td>DEN</td>\n",
       "      <td>1900 Summer</td>\n",
       "      <td>1900</td>\n",
       "      <td>1</td>\n",
       "      <td>Paris</td>\n",
       "      <td>Tug-Of-War</td>\n",
       "      <td>Tug-Of-War Men's Tug-Of-War</td>\n",
       "      <td>1</td>\n",
       "    </tr>\n",
       "    <tr>\n",
       "      <th>4</th>\n",
       "      <td>5</td>\n",
       "      <td>Christine Jacoba Aaftink</td>\n",
       "      <td>0</td>\n",
       "      <td>21.0</td>\n",
       "      <td>185.0</td>\n",
       "      <td>82.0</td>\n",
       "      <td>Netherlands</td>\n",
       "      <td>NED</td>\n",
       "      <td>1988 Winter</td>\n",
       "      <td>1988</td>\n",
       "      <td>0</td>\n",
       "      <td>Calgary</td>\n",
       "      <td>Speed Skating</td>\n",
       "      <td>Speed Skating Women's 500 metres</td>\n",
       "      <td>3</td>\n",
       "    </tr>\n",
       "  </tbody>\n",
       "</table>\n",
       "</div>"
      ],
      "text/plain": [
       "   ID                      Name  Sex   Age  Height  Weight            Team  \\\n",
       "0   1                 A Dijiang    1  24.0   180.0    80.0           China   \n",
       "1   2                  A Lamusi    1  23.0   170.0    60.0           China   \n",
       "2   3       Gunnar Nielsen Aaby    1  24.0     NaN     NaN         Denmark   \n",
       "3   4      Edgar Lindenau Aabye    1  34.0     NaN     NaN  Denmark/Sweden   \n",
       "4   5  Christine Jacoba Aaftink    0  21.0   185.0    82.0     Netherlands   \n",
       "\n",
       "   NOC        Games  Year  Season       City          Sport  \\\n",
       "0  CHN  1992 Summer  1992       1  Barcelona     Basketball   \n",
       "1  CHN  2012 Summer  2012       1     London           Judo   \n",
       "2  DEN  1920 Summer  1920       1  Antwerpen       Football   \n",
       "3  DEN  1900 Summer  1900       1      Paris     Tug-Of-War   \n",
       "4  NED  1988 Winter  1988       0    Calgary  Speed Skating   \n",
       "\n",
       "                              Event  Medal  \n",
       "0       Basketball Men's Basketball      3  \n",
       "1      Judo Men's Extra-Lightweight      3  \n",
       "2           Football Men's Football      3  \n",
       "3       Tug-Of-War Men's Tug-Of-War      1  \n",
       "4  Speed Skating Women's 500 metres      3  "
      ]
     },
     "execution_count": 135,
     "metadata": {},
     "output_type": "execute_result"
    }
   ],
   "source": [
    "# Define a function for each column to apply the encoding\n",
    "def encode_sex(x):\n",
    "    return 1 if x == 'M' else 0\n",
    "\n",
    "def encode_season(x):\n",
    "    return 1 if x == 'Summer' else 0\n",
    "\n",
    "def encode_medal(x):\n",
    "    if x == 'Gold':\n",
    "        return 1\n",
    "    elif x == 'Silver':\n",
    "        return 2\n",
    "    else:\n",
    "        return 3 \n",
    "\n",
    "# Apply the encoding functions to the respective columns\n",
    "df_athletes['Sex'] = df_athletes['Sex'].apply(encode_sex)\n",
    "df_athletes['Season'] = df_athletes['Season'].apply(encode_season)\n",
    "df_athletes['Medal'] = df_athletes['Medal'].apply(encode_medal)\n",
    "\n",
    "\n",
    "        \n",
    "df_athletes.head(5) "
   ]
  },
  {
   "cell_type": "code",
   "execution_count": 136,
   "metadata": {},
   "outputs": [
    {
     "data": {
      "image/png": "[encoded data removed]",
      "text/plain": [
       "<Figure size 1500x1000 with 2 Axes>"
      ]
     },
     "metadata": {},
     "output_type": "display_data"
    }
   ],
   "source": [
    "# Pearson Correlation\n",
    "\n",
    "plt.figure(figsize=(15,10))\n",
    "sns.heatmap(df_athletes.corr(method='pearson', numeric_only=True), annot=True, cmap='coolwarm', fmt='.2f')\n",
    "plt.show()\n"
   ]
  },
  {
   "cell_type": "code",
   "execution_count": 137,
   "metadata": {},
   "outputs": [
    {
     "data": {
      "text/html": [
       "<div>\n",
       "<style scoped>\n",
       "    .dataframe tbody tr th:only-of-type {\n",
       "        vertical-align: middle;\n",
       "    }\n",
       "\n",
       "    .dataframe tbody tr th {\n",
       "        vertical-align: top;\n",
       "    }\n",
       "\n",
       "    .dataframe thead th {\n",
       "        text-align: right;\n",
       "    }\n",
       "</style>\n",
       "<table border=\"1\" class=\"dataframe\">\n",
       "  <thead>\n",
       "    <tr style=\"text-align: right;\">\n",
       "      <th></th>\n",
       "      <th>Year</th>\n",
       "      <th>Age</th>\n",
       "      <th>Sex</th>\n",
       "      <th>Weight</th>\n",
       "      <th>Height</th>\n",
       "      <th>Season</th>\n",
       "      <th>Sport</th>\n",
       "      <th>BMI</th>\n",
       "    </tr>\n",
       "  </thead>\n",
       "  <tbody>\n",
       "    <tr>\n",
       "      <th>0</th>\n",
       "      <td>2016</td>\n",
       "      <td>22.0</td>\n",
       "      <td>F</td>\n",
       "      <td>125.0</td>\n",
       "      <td>170.0</td>\n",
       "      <td>Summer</td>\n",
       "      <td>Weightlifting</td>\n",
       "      <td>43.252595</td>\n",
       "    </tr>\n",
       "    <tr>\n",
       "      <th>1</th>\n",
       "      <td>2000</td>\n",
       "      <td>31.0</td>\n",
       "      <td>M</td>\n",
       "      <td>130.0</td>\n",
       "      <td>189.0</td>\n",
       "      <td>Summer</td>\n",
       "      <td>Athletics</td>\n",
       "      <td>36.393158</td>\n",
       "    </tr>\n",
       "    <tr>\n",
       "      <th>2</th>\n",
       "      <td>2006</td>\n",
       "      <td>24.0</td>\n",
       "      <td>M</td>\n",
       "      <td>95.0</td>\n",
       "      <td>175.0</td>\n",
       "      <td>Winter</td>\n",
       "      <td>Curling</td>\n",
       "      <td>31.020408</td>\n",
       "    </tr>\n",
       "    <tr>\n",
       "      <th>3</th>\n",
       "      <td>1924</td>\n",
       "      <td>21.0</td>\n",
       "      <td>M</td>\n",
       "      <td>98.0</td>\n",
       "      <td>178.0</td>\n",
       "      <td>Summer</td>\n",
       "      <td>Rugby</td>\n",
       "      <td>30.930438</td>\n",
       "    </tr>\n",
       "    <tr>\n",
       "      <th>4</th>\n",
       "      <td>2000</td>\n",
       "      <td>21.0</td>\n",
       "      <td>M</td>\n",
       "      <td>91.0</td>\n",
       "      <td>179.0</td>\n",
       "      <td>Summer</td>\n",
       "      <td>Baseball</td>\n",
       "      <td>28.401111</td>\n",
       "    </tr>\n",
       "    <tr>\n",
       "      <th>5</th>\n",
       "      <td>2002</td>\n",
       "      <td>26.0</td>\n",
       "      <td>M</td>\n",
       "      <td>96.0</td>\n",
       "      <td>186.0</td>\n",
       "      <td>Winter</td>\n",
       "      <td>Ice Hockey</td>\n",
       "      <td>27.748873</td>\n",
       "    </tr>\n",
       "    <tr>\n",
       "      <th>6</th>\n",
       "      <td>1992</td>\n",
       "      <td>27.0</td>\n",
       "      <td>M</td>\n",
       "      <td>82.0</td>\n",
       "      <td>172.0</td>\n",
       "      <td>Summer</td>\n",
       "      <td>Canoeing</td>\n",
       "      <td>27.717685</td>\n",
       "    </tr>\n",
       "    <tr>\n",
       "      <th>7</th>\n",
       "      <td>1992</td>\n",
       "      <td>20.0</td>\n",
       "      <td>M</td>\n",
       "      <td>85.0</td>\n",
       "      <td>176.0</td>\n",
       "      <td>Winter</td>\n",
       "      <td>Alpine Skiing</td>\n",
       "      <td>27.440599</td>\n",
       "    </tr>\n",
       "    <tr>\n",
       "      <th>8</th>\n",
       "      <td>1932</td>\n",
       "      <td>44.0</td>\n",
       "      <td>M</td>\n",
       "      <td>91.0</td>\n",
       "      <td>183.0</td>\n",
       "      <td>Summer</td>\n",
       "      <td>Art Competitions</td>\n",
       "      <td>27.173102</td>\n",
       "    </tr>\n",
       "    <tr>\n",
       "      <th>9</th>\n",
       "      <td>1998</td>\n",
       "      <td>24.0</td>\n",
       "      <td>M</td>\n",
       "      <td>98.0</td>\n",
       "      <td>190.0</td>\n",
       "      <td>Winter</td>\n",
       "      <td>Bobsleigh</td>\n",
       "      <td>27.146814</td>\n",
       "    </tr>\n",
       "    <tr>\n",
       "      <th>10</th>\n",
       "      <td>2008</td>\n",
       "      <td>23.0</td>\n",
       "      <td>M</td>\n",
       "      <td>86.0</td>\n",
       "      <td>182.0</td>\n",
       "      <td>Summer</td>\n",
       "      <td>Handball</td>\n",
       "      <td>25.963048</td>\n",
       "    </tr>\n",
       "    <tr>\n",
       "      <th>11</th>\n",
       "      <td>1920</td>\n",
       "      <td>NaN</td>\n",
       "      <td>M</td>\n",
       "      <td>95.0</td>\n",
       "      <td>192.0</td>\n",
       "      <td>Summer</td>\n",
       "      <td>Tug-Of-War</td>\n",
       "      <td>25.770399</td>\n",
       "    </tr>\n",
       "    <tr>\n",
       "      <th>12</th>\n",
       "      <td>2002</td>\n",
       "      <td>24.0</td>\n",
       "      <td>M</td>\n",
       "      <td>78.0</td>\n",
       "      <td>175.0</td>\n",
       "      <td>Winter</td>\n",
       "      <td>Skeleton</td>\n",
       "      <td>25.469388</td>\n",
       "    </tr>\n",
       "    <tr>\n",
       "      <th>13</th>\n",
       "      <td>2000</td>\n",
       "      <td>22.0</td>\n",
       "      <td>M</td>\n",
       "      <td>89.0</td>\n",
       "      <td>187.0</td>\n",
       "      <td>Summer</td>\n",
       "      <td>Wrestling</td>\n",
       "      <td>25.451114</td>\n",
       "    </tr>\n",
       "    <tr>\n",
       "      <th>14</th>\n",
       "      <td>2000</td>\n",
       "      <td>25.0</td>\n",
       "      <td>M</td>\n",
       "      <td>80.0</td>\n",
       "      <td>178.0</td>\n",
       "      <td>Summer</td>\n",
       "      <td>Hockey</td>\n",
       "      <td>25.249337</td>\n",
       "    </tr>\n",
       "    <tr>\n",
       "      <th>15</th>\n",
       "      <td>2016</td>\n",
       "      <td>41.0</td>\n",
       "      <td>M</td>\n",
       "      <td>72.0</td>\n",
       "      <td>170.0</td>\n",
       "      <td>Summer</td>\n",
       "      <td>Golf</td>\n",
       "      <td>24.913495</td>\n",
       "    </tr>\n",
       "    <tr>\n",
       "      <th>16</th>\n",
       "      <td>2008</td>\n",
       "      <td>23.0</td>\n",
       "      <td>M</td>\n",
       "      <td>94.0</td>\n",
       "      <td>195.0</td>\n",
       "      <td>Summer</td>\n",
       "      <td>Volleyball</td>\n",
       "      <td>24.720579</td>\n",
       "    </tr>\n",
       "    <tr>\n",
       "      <th>17</th>\n",
       "      <td>1936</td>\n",
       "      <td>33.0</td>\n",
       "      <td>M</td>\n",
       "      <td>93.0</td>\n",
       "      <td>194.0</td>\n",
       "      <td>Summer</td>\n",
       "      <td>Shooting</td>\n",
       "      <td>24.710384</td>\n",
       "    </tr>\n",
       "    <tr>\n",
       "      <th>18</th>\n",
       "      <td>1992</td>\n",
       "      <td>24.0</td>\n",
       "      <td>M</td>\n",
       "      <td>80.0</td>\n",
       "      <td>180.0</td>\n",
       "      <td>Summer</td>\n",
       "      <td>Basketball</td>\n",
       "      <td>24.691358</td>\n",
       "    </tr>\n",
       "    <tr>\n",
       "      <th>19</th>\n",
       "      <td>2008</td>\n",
       "      <td>23.0</td>\n",
       "      <td>F</td>\n",
       "      <td>88.0</td>\n",
       "      <td>191.0</td>\n",
       "      <td>Summer</td>\n",
       "      <td>Softball</td>\n",
       "      <td>24.122146</td>\n",
       "    </tr>\n",
       "    <tr>\n",
       "      <th>20</th>\n",
       "      <td>1996</td>\n",
       "      <td>22.0</td>\n",
       "      <td>M</td>\n",
       "      <td>83.0</td>\n",
       "      <td>186.0</td>\n",
       "      <td>Summer</td>\n",
       "      <td>Water Polo</td>\n",
       "      <td>23.991213</td>\n",
       "    </tr>\n",
       "    <tr>\n",
       "      <th>21</th>\n",
       "      <td>1988</td>\n",
       "      <td>21.0</td>\n",
       "      <td>F</td>\n",
       "      <td>82.0</td>\n",
       "      <td>185.0</td>\n",
       "      <td>Winter</td>\n",
       "      <td>Speed Skating</td>\n",
       "      <td>23.959094</td>\n",
       "    </tr>\n",
       "    <tr>\n",
       "      <th>22</th>\n",
       "      <td>2000</td>\n",
       "      <td>31.0</td>\n",
       "      <td>M</td>\n",
       "      <td>70.0</td>\n",
       "      <td>172.0</td>\n",
       "      <td>Summer</td>\n",
       "      <td>Badminton</td>\n",
       "      <td>23.661439</td>\n",
       "    </tr>\n",
       "    <tr>\n",
       "      <th>23</th>\n",
       "      <td>1908</td>\n",
       "      <td>27.0</td>\n",
       "      <td>M</td>\n",
       "      <td>77.0</td>\n",
       "      <td>181.0</td>\n",
       "      <td>Summer</td>\n",
       "      <td>Motorboating</td>\n",
       "      <td>23.503556</td>\n",
       "    </tr>\n",
       "    <tr>\n",
       "      <th>24</th>\n",
       "      <td>2000</td>\n",
       "      <td>26.0</td>\n",
       "      <td>M</td>\n",
       "      <td>65.0</td>\n",
       "      <td>167.0</td>\n",
       "      <td>Summer</td>\n",
       "      <td>Diving</td>\n",
       "      <td>23.306680</td>\n",
       "    </tr>\n",
       "    <tr>\n",
       "      <th>25</th>\n",
       "      <td>1992</td>\n",
       "      <td>23.0</td>\n",
       "      <td>M</td>\n",
       "      <td>76.0</td>\n",
       "      <td>181.0</td>\n",
       "      <td>Winter</td>\n",
       "      <td>Freestyle Skiing</td>\n",
       "      <td>23.198315</td>\n",
       "    </tr>\n",
       "    <tr>\n",
       "      <th>26</th>\n",
       "      <td>2008</td>\n",
       "      <td>30.0</td>\n",
       "      <td>M</td>\n",
       "      <td>87.0</td>\n",
       "      <td>194.0</td>\n",
       "      <td>Summer</td>\n",
       "      <td>Fencing</td>\n",
       "      <td>23.116165</td>\n",
       "    </tr>\n",
       "    <tr>\n",
       "      <th>27</th>\n",
       "      <td>1932</td>\n",
       "      <td>19.0</td>\n",
       "      <td>M</td>\n",
       "      <td>56.0</td>\n",
       "      <td>156.0</td>\n",
       "      <td>Winter</td>\n",
       "      <td>Ski Jumping</td>\n",
       "      <td>23.011177</td>\n",
       "    </tr>\n",
       "    <tr>\n",
       "      <th>28</th>\n",
       "      <td>1984</td>\n",
       "      <td>17.0</td>\n",
       "      <td>F</td>\n",
       "      <td>65.0</td>\n",
       "      <td>169.0</td>\n",
       "      <td>Winter</td>\n",
       "      <td>Luge</td>\n",
       "      <td>22.758307</td>\n",
       "    </tr>\n",
       "    <tr>\n",
       "      <th>29</th>\n",
       "      <td>2004</td>\n",
       "      <td>21.0</td>\n",
       "      <td>F</td>\n",
       "      <td>60.0</td>\n",
       "      <td>163.0</td>\n",
       "      <td>Summer</td>\n",
       "      <td>Cycling</td>\n",
       "      <td>22.582709</td>\n",
       "    </tr>\n",
       "    <tr>\n",
       "      <th>30</th>\n",
       "      <td>1904</td>\n",
       "      <td>29.0</td>\n",
       "      <td>M</td>\n",
       "      <td>73.0</td>\n",
       "      <td>180.0</td>\n",
       "      <td>Summer</td>\n",
       "      <td>Lacrosse</td>\n",
       "      <td>22.530864</td>\n",
       "    </tr>\n",
       "    <tr>\n",
       "      <th>31</th>\n",
       "      <td>1992</td>\n",
       "      <td>24.0</td>\n",
       "      <td>M</td>\n",
       "      <td>64.0</td>\n",
       "      <td>169.0</td>\n",
       "      <td>Winter</td>\n",
       "      <td>Short Track Speed Skating</td>\n",
       "      <td>22.408179</td>\n",
       "    </tr>\n",
       "    <tr>\n",
       "      <th>32</th>\n",
       "      <td>2000</td>\n",
       "      <td>26.0</td>\n",
       "      <td>M</td>\n",
       "      <td>75.0</td>\n",
       "      <td>183.0</td>\n",
       "      <td>Summer</td>\n",
       "      <td>Tennis</td>\n",
       "      <td>22.395413</td>\n",
       "    </tr>\n",
       "    <tr>\n",
       "      <th>33</th>\n",
       "      <td>1994</td>\n",
       "      <td>32.0</td>\n",
       "      <td>F</td>\n",
       "      <td>65.0</td>\n",
       "      <td>171.0</td>\n",
       "      <td>Winter</td>\n",
       "      <td>Biathlon</td>\n",
       "      <td>22.229062</td>\n",
       "    </tr>\n",
       "    <tr>\n",
       "      <th>34</th>\n",
       "      <td>2004</td>\n",
       "      <td>22.0</td>\n",
       "      <td>M</td>\n",
       "      <td>60.0</td>\n",
       "      <td>165.0</td>\n",
       "      <td>Summer</td>\n",
       "      <td>Modern Pentathlon</td>\n",
       "      <td>22.038567</td>\n",
       "    </tr>\n",
       "    <tr>\n",
       "      <th>35</th>\n",
       "      <td>1996</td>\n",
       "      <td>30.0</td>\n",
       "      <td>F</td>\n",
       "      <td>55.5</td>\n",
       "      <td>159.0</td>\n",
       "      <td>Summer</td>\n",
       "      <td>Sailing</td>\n",
       "      <td>21.953246</td>\n",
       "    </tr>\n",
       "    <tr>\n",
       "      <th>36</th>\n",
       "      <td>1992</td>\n",
       "      <td>34.0</td>\n",
       "      <td>M</td>\n",
       "      <td>75.0</td>\n",
       "      <td>185.0</td>\n",
       "      <td>Summer</td>\n",
       "      <td>Equestrianism</td>\n",
       "      <td>21.913806</td>\n",
       "    </tr>\n",
       "    <tr>\n",
       "      <th>37</th>\n",
       "      <td>2016</td>\n",
       "      <td>22.0</td>\n",
       "      <td>M</td>\n",
       "      <td>73.0</td>\n",
       "      <td>183.0</td>\n",
       "      <td>Summer</td>\n",
       "      <td>Trampolining</td>\n",
       "      <td>21.798202</td>\n",
       "    </tr>\n",
       "    <tr>\n",
       "      <th>38</th>\n",
       "      <td>2008</td>\n",
       "      <td>15.0</td>\n",
       "      <td>F</td>\n",
       "      <td>60.0</td>\n",
       "      <td>167.0</td>\n",
       "      <td>Summer</td>\n",
       "      <td>Synchronized Swimming</td>\n",
       "      <td>21.513859</td>\n",
       "    </tr>\n",
       "    <tr>\n",
       "      <th>39</th>\n",
       "      <td>2016</td>\n",
       "      <td>27.0</td>\n",
       "      <td>F</td>\n",
       "      <td>56.0</td>\n",
       "      <td>162.0</td>\n",
       "      <td>Summer</td>\n",
       "      <td>Rugby Sevens</td>\n",
       "      <td>21.338211</td>\n",
       "    </tr>\n",
       "    <tr>\n",
       "      <th>40</th>\n",
       "      <td>1988</td>\n",
       "      <td>24.0</td>\n",
       "      <td>M</td>\n",
       "      <td>66.0</td>\n",
       "      <td>176.0</td>\n",
       "      <td>Summer</td>\n",
       "      <td>Boxing</td>\n",
       "      <td>21.306818</td>\n",
       "    </tr>\n",
       "    <tr>\n",
       "      <th>41</th>\n",
       "      <td>1992</td>\n",
       "      <td>31.0</td>\n",
       "      <td>M</td>\n",
       "      <td>75.0</td>\n",
       "      <td>188.0</td>\n",
       "      <td>Winter</td>\n",
       "      <td>Cross Country Skiing</td>\n",
       "      <td>21.220009</td>\n",
       "    </tr>\n",
       "    <tr>\n",
       "      <th>42</th>\n",
       "      <td>2008</td>\n",
       "      <td>40.0</td>\n",
       "      <td>F</td>\n",
       "      <td>57.0</td>\n",
       "      <td>165.0</td>\n",
       "      <td>Summer</td>\n",
       "      <td>Archery</td>\n",
       "      <td>20.936639</td>\n",
       "    </tr>\n",
       "    <tr>\n",
       "      <th>43</th>\n",
       "      <td>1988</td>\n",
       "      <td>22.0</td>\n",
       "      <td>M</td>\n",
       "      <td>64.0</td>\n",
       "      <td>175.0</td>\n",
       "      <td>Winter</td>\n",
       "      <td>Nordic Combined</td>\n",
       "      <td>20.897959</td>\n",
       "    </tr>\n",
       "    <tr>\n",
       "      <th>44</th>\n",
       "      <td>1948</td>\n",
       "      <td>28.0</td>\n",
       "      <td>M</td>\n",
       "      <td>64.0</td>\n",
       "      <td>175.0</td>\n",
       "      <td>Summer</td>\n",
       "      <td>Gymnastics</td>\n",
       "      <td>20.897959</td>\n",
       "    </tr>\n",
       "    <tr>\n",
       "      <th>45</th>\n",
       "      <td>1964</td>\n",
       "      <td>15.0</td>\n",
       "      <td>M</td>\n",
       "      <td>64.0</td>\n",
       "      <td>175.0</td>\n",
       "      <td>Winter</td>\n",
       "      <td>Figure Skating</td>\n",
       "      <td>20.897959</td>\n",
       "    </tr>\n",
       "    <tr>\n",
       "      <th>46</th>\n",
       "      <td>2012</td>\n",
       "      <td>23.0</td>\n",
       "      <td>M</td>\n",
       "      <td>60.0</td>\n",
       "      <td>170.0</td>\n",
       "      <td>Summer</td>\n",
       "      <td>Judo</td>\n",
       "      <td>20.761246</td>\n",
       "    </tr>\n",
       "    <tr>\n",
       "      <th>47</th>\n",
       "      <td>1996</td>\n",
       "      <td>21.0</td>\n",
       "      <td>M</td>\n",
       "      <td>78.0</td>\n",
       "      <td>194.0</td>\n",
       "      <td>Summer</td>\n",
       "      <td>Swimming</td>\n",
       "      <td>20.724838</td>\n",
       "    </tr>\n",
       "    <tr>\n",
       "      <th>48</th>\n",
       "      <td>2000</td>\n",
       "      <td>19.0</td>\n",
       "      <td>F</td>\n",
       "      <td>53.0</td>\n",
       "      <td>160.0</td>\n",
       "      <td>Summer</td>\n",
       "      <td>Table Tennis</td>\n",
       "      <td>20.703125</td>\n",
       "    </tr>\n",
       "    <tr>\n",
       "      <th>49</th>\n",
       "      <td>2008</td>\n",
       "      <td>40.0</td>\n",
       "      <td>M</td>\n",
       "      <td>73.0</td>\n",
       "      <td>188.0</td>\n",
       "      <td>Summer</td>\n",
       "      <td>Beach Volleyball</td>\n",
       "      <td>20.654142</td>\n",
       "    </tr>\n",
       "    <tr>\n",
       "      <th>50</th>\n",
       "      <td>2006</td>\n",
       "      <td>18.0</td>\n",
       "      <td>M</td>\n",
       "      <td>68.0</td>\n",
       "      <td>183.0</td>\n",
       "      <td>Winter</td>\n",
       "      <td>Snowboarding</td>\n",
       "      <td>20.305175</td>\n",
       "    </tr>\n",
       "    <tr>\n",
       "      <th>51</th>\n",
       "      <td>1996</td>\n",
       "      <td>26.0</td>\n",
       "      <td>M</td>\n",
       "      <td>72.0</td>\n",
       "      <td>189.0</td>\n",
       "      <td>Summer</td>\n",
       "      <td>Rowing</td>\n",
       "      <td>20.156211</td>\n",
       "    </tr>\n",
       "    <tr>\n",
       "      <th>52</th>\n",
       "      <td>2000</td>\n",
       "      <td>24.0</td>\n",
       "      <td>M</td>\n",
       "      <td>58.0</td>\n",
       "      <td>172.0</td>\n",
       "      <td>Summer</td>\n",
       "      <td>Taekwondo</td>\n",
       "      <td>19.605192</td>\n",
       "    </tr>\n",
       "    <tr>\n",
       "      <th>53</th>\n",
       "      <td>1996</td>\n",
       "      <td>23.0</td>\n",
       "      <td>F</td>\n",
       "      <td>64.0</td>\n",
       "      <td>182.0</td>\n",
       "      <td>Summer</td>\n",
       "      <td>Football</td>\n",
       "      <td>19.321338</td>\n",
       "    </tr>\n",
       "    <tr>\n",
       "      <th>54</th>\n",
       "      <td>2016</td>\n",
       "      <td>26.0</td>\n",
       "      <td>F</td>\n",
       "      <td>51.0</td>\n",
       "      <td>164.0</td>\n",
       "      <td>Summer</td>\n",
       "      <td>Triathlon</td>\n",
       "      <td>18.961927</td>\n",
       "    </tr>\n",
       "    <tr>\n",
       "      <th>55</th>\n",
       "      <td>2004</td>\n",
       "      <td>19.0</td>\n",
       "      <td>F</td>\n",
       "      <td>48.0</td>\n",
       "      <td>169.0</td>\n",
       "      <td>Summer</td>\n",
       "      <td>Rhythmic Gymnastics</td>\n",
       "      <td>16.806134</td>\n",
       "    </tr>\n",
       "  </tbody>\n",
       "</table>\n",
       "</div>"
      ],
      "text/plain": [
       "    Year   Age Sex  Weight  Height  Season                      Sport  \\\n",
       "0   2016  22.0   F   125.0   170.0  Summer              Weightlifting   \n",
       "1   2000  31.0   M   130.0   189.0  Summer                  Athletics   \n",
       "2   2006  24.0   M    95.0   175.0  Winter                    Curling   \n",
       "3   1924  21.0   M    98.0   178.0  Summer                      Rugby   \n",
       "4   2000  21.0   M    91.0   179.0  Summer                   Baseball   \n",
       "5   2002  26.0   M    96.0   186.0  Winter                 Ice Hockey   \n",
       "6   1992  27.0   M    82.0   172.0  Summer                   Canoeing   \n",
       "7   1992  20.0   M    85.0   176.0  Winter              Alpine Skiing   \n",
       "8   1932  44.0   M    91.0   183.0  Summer           Art Competitions   \n",
       "9   1998  24.0   M    98.0   190.0  Winter                  Bobsleigh   \n",
       "10  2008  23.0   M    86.0   182.0  Summer                   Handball   \n",
       "11  1920   NaN   M    95.0   192.0  Summer                 Tug-Of-War   \n",
       "12  2002  24.0   M    78.0   175.0  Winter                   Skeleton   \n",
       "13  2000  22.0   M    89.0   187.0  Summer                  Wrestling   \n",
       "14  2000  25.0   M    80.0   178.0  Summer                     Hockey   \n",
       "15  2016  41.0   M    72.0   170.0  Summer                       Golf   \n",
       "16  2008  23.0   M    94.0   195.0  Summer                 Volleyball   \n",
       "17  1936  33.0   M    93.0   194.0  Summer                   Shooting   \n",
       "18  1992  24.0   M    80.0   180.0  Summer                 Basketball   \n",
       "19  2008  23.0   F    88.0   191.0  Summer                   Softball   \n",
       "20  1996  22.0   M    83.0   186.0  Summer                 Water Polo   \n",
       "21  1988  21.0   F    82.0   185.0  Winter              Speed Skating   \n",
       "22  2000  31.0   M    70.0   172.0  Summer                  Badminton   \n",
       "23  1908  27.0   M    77.0   181.0  Summer               Motorboating   \n",
       "24  2000  26.0   M    65.0   167.0  Summer                     Diving   \n",
       "25  1992  23.0   M    76.0   181.0  Winter           Freestyle Skiing   \n",
       "26  2008  30.0   M    87.0   194.0  Summer                    Fencing   \n",
       "27  1932  19.0   M    56.0   156.0  Winter                Ski Jumping   \n",
       "28  1984  17.0   F    65.0   169.0  Winter                       Luge   \n",
       "29  2004  21.0   F    60.0   163.0  Summer                    Cycling   \n",
       "30  1904  29.0   M    73.0   180.0  Summer                   Lacrosse   \n",
       "31  1992  24.0   M    64.0   169.0  Winter  Short Track Speed Skating   \n",
       "32  2000  26.0   M    75.0   183.0  Summer                     Tennis   \n",
       "33  1994  32.0   F    65.0   171.0  Winter                   Biathlon   \n",
       "34  2004  22.0   M    60.0   165.0  Summer          Modern Pentathlon   \n",
       "35  1996  30.0   F    55.5   159.0  Summer                    Sailing   \n",
       "36  1992  34.0   M    75.0   185.0  Summer              Equestrianism   \n",
       "37  2016  22.0   M    73.0   183.0  Summer               Trampolining   \n",
       "38  2008  15.0   F    60.0   167.0  Summer      Synchronized Swimming   \n",
       "39  2016  27.0   F    56.0   162.0  Summer               Rugby Sevens   \n",
       "40  1988  24.0   M    66.0   176.0  Summer                     Boxing   \n",
       "41  1992  31.0   M    75.0   188.0  Winter       Cross Country Skiing   \n",
       "42  2008  40.0   F    57.0   165.0  Summer                    Archery   \n",
       "43  1988  22.0   M    64.0   175.0  Winter            Nordic Combined   \n",
       "44  1948  28.0   M    64.0   175.0  Summer                 Gymnastics   \n",
       "45  1964  15.0   M    64.0   175.0  Winter             Figure Skating   \n",
       "46  2012  23.0   M    60.0   170.0  Summer                       Judo   \n",
       "47  1996  21.0   M    78.0   194.0  Summer                   Swimming   \n",
       "48  2000  19.0   F    53.0   160.0  Summer               Table Tennis   \n",
       "49  2008  40.0   M    73.0   188.0  Summer           Beach Volleyball   \n",
       "50  2006  18.0   M    68.0   183.0  Winter               Snowboarding   \n",
       "51  1996  26.0   M    72.0   189.0  Summer                     Rowing   \n",
       "52  2000  24.0   M    58.0   172.0  Summer                  Taekwondo   \n",
       "53  1996  23.0   F    64.0   182.0  Summer                   Football   \n",
       "54  2016  26.0   F    51.0   164.0  Summer                  Triathlon   \n",
       "55  2004  19.0   F    48.0   169.0  Summer        Rhythmic Gymnastics   \n",
       "\n",
       "          BMI  \n",
       "0   43.252595  \n",
       "1   36.393158  \n",
       "2   31.020408  \n",
       "3   30.930438  \n",
       "4   28.401111  \n",
       "5   27.748873  \n",
       "6   27.717685  \n",
       "7   27.440599  \n",
       "8   27.173102  \n",
       "9   27.146814  \n",
       "10  25.963048  \n",
       "11  25.770399  \n",
       "12  25.469388  \n",
       "13  25.451114  \n",
       "14  25.249337  \n",
       "15  24.913495  \n",
       "16  24.720579  \n",
       "17  24.710384  \n",
       "18  24.691358  \n",
       "19  24.122146  \n",
       "20  23.991213  \n",
       "21  23.959094  \n",
       "22  23.661439  \n",
       "23  23.503556  \n",
       "24  23.306680  \n",
       "25  23.198315  \n",
       "26  23.116165  \n",
       "27  23.011177  \n",
       "28  22.758307  \n",
       "29  22.582709  \n",
       "30  22.530864  \n",
       "31  22.408179  \n",
       "32  22.395413  \n",
       "33  22.229062  \n",
       "34  22.038567  \n",
       "35  21.953246  \n",
       "36  21.913806  \n",
       "37  21.798202  \n",
       "38  21.513859  \n",
       "39  21.338211  \n",
       "40  21.306818  \n",
       "41  21.220009  \n",
       "42  20.936639  \n",
       "43  20.897959  \n",
       "44  20.897959  \n",
       "45  20.897959  \n",
       "46  20.761246  \n",
       "47  20.724838  \n",
       "48  20.703125  \n",
       "49  20.654142  \n",
       "50  20.305175  \n",
       "51  20.156211  \n",
       "52  19.605192  \n",
       "53  19.321338  \n",
       "54  18.961927  \n",
       "55  16.806134  "
      ]
     },
     "execution_count": 137,
     "metadata": {},
     "output_type": "execute_result"
    }
   ],
   "source": [
    "# Creating BMI in Athletes Table\n",
    "BMI = pd.read_sql('''\n",
    "SELECT\n",
    "    Year,\n",
    "    Age,\n",
    "    Sex,\n",
    "    Weight,\n",
    "    Height,\n",
    "    Season,\n",
    "    Sport,\n",
    "    (Weight)/(Height/100 * Height/100) AS BMI\n",
    "FROM\n",
    "    AthletesTable\n",
    "WHERE\n",
    "     (Height IS NOT NULL) AND (Weight IS NOT NULL)\n",
    "GROUP BY\n",
    "    Sport\n",
    "ORDER BY\n",
    "    BMI DESC\n",
    "''', con=engine)\n",
    "\n",
    "BMI"
   ]
  },
  {
   "cell_type": "code",
   "execution_count": 138,
   "metadata": {},
   "outputs": [
    {
     "data": {
      "image/png": "[encoded data removed]",
      "text/plain": [
       "<Figure size 1200x600 with 1 Axes>"
      ]
     },
     "metadata": {},
     "output_type": "display_data"
    }
   ],
   "source": [
    "# Plotting BMI by Sport\n",
    "plt.figure(figsize=(12, 6))\n",
    "plt.bar(BMI['Sport'], BMI['BMI'])\n",
    "plt.xticks(rotation=90)\n",
    "plt.xlabel('Sport')\n",
    "plt.ylabel('BMI')\n",
    "plt.title('BMI by Sport')\n",
    "plt.show()"
   ]
  },
  {
   "cell_type": "code",
   "execution_count": 139,
   "metadata": {},
   "outputs": [],
   "source": [
    "# Updating the Athletes Table with the BMI and medal"
   ]
  },
  {
   "cell_type": "code",
   "execution_count": 140,
   "metadata": {},
   "outputs": [
    {
     "data": {
      "text/html": [
       "<div>\n",
       "<style scoped>\n",
       "    .dataframe tbody tr th:only-of-type {\n",
       "        vertical-align: middle;\n",
       "    }\n",
       "\n",
       "    .dataframe tbody tr th {\n",
       "        vertical-align: top;\n",
       "    }\n",
       "\n",
       "    .dataframe thead th {\n",
       "        text-align: right;\n",
       "    }\n",
       "</style>\n",
       "<table border=\"1\" class=\"dataframe\">\n",
       "  <thead>\n",
       "    <tr style=\"text-align: right;\">\n",
       "      <th></th>\n",
       "      <th>year</th>\n",
       "      <th>season</th>\n",
       "      <th>medal_ratio</th>\n",
       "      <th>gold_ratio</th>\n",
       "      <th>silver_ratio</th>\n",
       "      <th>bronze_ratio</th>\n",
       "    </tr>\n",
       "  </thead>\n",
       "  <tbody>\n",
       "    <tr>\n",
       "      <th>0</th>\n",
       "      <td>1896</td>\n",
       "      <td>Summer</td>\n",
       "      <td>1.0</td>\n",
       "      <td>0.433566</td>\n",
       "      <td>0.300699</td>\n",
       "      <td>0.265734</td>\n",
       "    </tr>\n",
       "    <tr>\n",
       "      <th>1</th>\n",
       "      <td>1900</td>\n",
       "      <td>Summer</td>\n",
       "      <td>1.0</td>\n",
       "      <td>0.332781</td>\n",
       "      <td>0.377483</td>\n",
       "      <td>0.289735</td>\n",
       "    </tr>\n",
       "    <tr>\n",
       "      <th>2</th>\n",
       "      <td>1904</td>\n",
       "      <td>Summer</td>\n",
       "      <td>1.0</td>\n",
       "      <td>0.355967</td>\n",
       "      <td>0.335391</td>\n",
       "      <td>0.308642</td>\n",
       "    </tr>\n",
       "    <tr>\n",
       "      <th>3</th>\n",
       "      <td>1906</td>\n",
       "      <td>Summer</td>\n",
       "      <td>1.0</td>\n",
       "      <td>0.342795</td>\n",
       "      <td>0.340611</td>\n",
       "      <td>0.316594</td>\n",
       "    </tr>\n",
       "    <tr>\n",
       "      <th>4</th>\n",
       "      <td>1908</td>\n",
       "      <td>Summer</td>\n",
       "      <td>1.0</td>\n",
       "      <td>0.353791</td>\n",
       "      <td>0.338147</td>\n",
       "      <td>0.308063</td>\n",
       "    </tr>\n",
       "    <tr>\n",
       "      <th>5</th>\n",
       "      <td>1912</td>\n",
       "      <td>Summer</td>\n",
       "      <td>1.0</td>\n",
       "      <td>0.346440</td>\n",
       "      <td>0.334750</td>\n",
       "      <td>0.318810</td>\n",
       "    </tr>\n",
       "    <tr>\n",
       "      <th>6</th>\n",
       "      <td>1920</td>\n",
       "      <td>Summer</td>\n",
       "      <td>1.0</td>\n",
       "      <td>0.376911</td>\n",
       "      <td>0.342508</td>\n",
       "      <td>0.280581</td>\n",
       "    </tr>\n",
       "    <tr>\n",
       "      <th>7</th>\n",
       "      <td>1924</td>\n",
       "      <td>Summer</td>\n",
       "      <td>1.0</td>\n",
       "      <td>0.332933</td>\n",
       "      <td>0.337740</td>\n",
       "      <td>0.329327</td>\n",
       "    </tr>\n",
       "    <tr>\n",
       "      <th>8</th>\n",
       "      <td>1924</td>\n",
       "      <td>Winter</td>\n",
       "      <td>1.0</td>\n",
       "      <td>0.423077</td>\n",
       "      <td>0.292308</td>\n",
       "      <td>0.284615</td>\n",
       "    </tr>\n",
       "    <tr>\n",
       "      <th>9</th>\n",
       "      <td>1928</td>\n",
       "      <td>Summer</td>\n",
       "      <td>1.0</td>\n",
       "      <td>0.333787</td>\n",
       "      <td>0.325613</td>\n",
       "      <td>0.340599</td>\n",
       "    </tr>\n",
       "    <tr>\n",
       "      <th>10</th>\n",
       "      <td>1928</td>\n",
       "      <td>Winter</td>\n",
       "      <td>1.0</td>\n",
       "      <td>0.337079</td>\n",
       "      <td>0.314607</td>\n",
       "      <td>0.348315</td>\n",
       "    </tr>\n",
       "    <tr>\n",
       "      <th>11</th>\n",
       "      <td>1932</td>\n",
       "      <td>Summer</td>\n",
       "      <td>1.0</td>\n",
       "      <td>0.353941</td>\n",
       "      <td>0.330757</td>\n",
       "      <td>0.315301</td>\n",
       "    </tr>\n",
       "    <tr>\n",
       "      <th>12</th>\n",
       "      <td>1932</td>\n",
       "      <td>Winter</td>\n",
       "      <td>1.0</td>\n",
       "      <td>0.347826</td>\n",
       "      <td>0.347826</td>\n",
       "      <td>0.304348</td>\n",
       "    </tr>\n",
       "    <tr>\n",
       "      <th>13</th>\n",
       "      <td>1936</td>\n",
       "      <td>Summer</td>\n",
       "      <td>1.0</td>\n",
       "      <td>0.340240</td>\n",
       "      <td>0.338059</td>\n",
       "      <td>0.321701</td>\n",
       "    </tr>\n",
       "    <tr>\n",
       "      <th>14</th>\n",
       "      <td>1936</td>\n",
       "      <td>Winter</td>\n",
       "      <td>1.0</td>\n",
       "      <td>0.333333</td>\n",
       "      <td>0.342593</td>\n",
       "      <td>0.324074</td>\n",
       "    </tr>\n",
       "    <tr>\n",
       "      <th>15</th>\n",
       "      <td>1948</td>\n",
       "      <td>Summer</td>\n",
       "      <td>1.0</td>\n",
       "      <td>0.339202</td>\n",
       "      <td>0.333333</td>\n",
       "      <td>0.327465</td>\n",
       "    </tr>\n",
       "    <tr>\n",
       "      <th>16</th>\n",
       "      <td>1948</td>\n",
       "      <td>Winter</td>\n",
       "      <td>1.0</td>\n",
       "      <td>0.303704</td>\n",
       "      <td>0.355556</td>\n",
       "      <td>0.340741</td>\n",
       "    </tr>\n",
       "    <tr>\n",
       "      <th>17</th>\n",
       "      <td>1952</td>\n",
       "      <td>Summer</td>\n",
       "      <td>1.0</td>\n",
       "      <td>0.341137</td>\n",
       "      <td>0.324415</td>\n",
       "      <td>0.334448</td>\n",
       "    </tr>\n",
       "    <tr>\n",
       "      <th>18</th>\n",
       "      <td>1952</td>\n",
       "      <td>Winter</td>\n",
       "      <td>1.0</td>\n",
       "      <td>0.330882</td>\n",
       "      <td>0.323529</td>\n",
       "      <td>0.345588</td>\n",
       "    </tr>\n",
       "    <tr>\n",
       "      <th>19</th>\n",
       "      <td>1956</td>\n",
       "      <td>Summer</td>\n",
       "      <td>1.0</td>\n",
       "      <td>0.338186</td>\n",
       "      <td>0.328108</td>\n",
       "      <td>0.333707</td>\n",
       "    </tr>\n",
       "    <tr>\n",
       "      <th>20</th>\n",
       "      <td>1956</td>\n",
       "      <td>Winter</td>\n",
       "      <td>1.0</td>\n",
       "      <td>0.340000</td>\n",
       "      <td>0.326667</td>\n",
       "      <td>0.333333</td>\n",
       "    </tr>\n",
       "    <tr>\n",
       "      <th>21</th>\n",
       "      <td>1960</td>\n",
       "      <td>Summer</td>\n",
       "      <td>1.0</td>\n",
       "      <td>0.339188</td>\n",
       "      <td>0.322722</td>\n",
       "      <td>0.338090</td>\n",
       "    </tr>\n",
       "    <tr>\n",
       "      <th>22</th>\n",
       "      <td>1960</td>\n",
       "      <td>Winter</td>\n",
       "      <td>1.0</td>\n",
       "      <td>0.340136</td>\n",
       "      <td>0.326531</td>\n",
       "      <td>0.333333</td>\n",
       "    </tr>\n",
       "    <tr>\n",
       "      <th>23</th>\n",
       "      <td>1964</td>\n",
       "      <td>Summer</td>\n",
       "      <td>1.0</td>\n",
       "      <td>0.337221</td>\n",
       "      <td>0.329446</td>\n",
       "      <td>0.333333</td>\n",
       "    </tr>\n",
       "    <tr>\n",
       "      <th>24</th>\n",
       "      <td>1964</td>\n",
       "      <td>Winter</td>\n",
       "      <td>1.0</td>\n",
       "      <td>0.327957</td>\n",
       "      <td>0.360215</td>\n",
       "      <td>0.311828</td>\n",
       "    </tr>\n",
       "    <tr>\n",
       "      <th>25</th>\n",
       "      <td>1968</td>\n",
       "      <td>Summer</td>\n",
       "      <td>1.0</td>\n",
       "      <td>0.339640</td>\n",
       "      <td>0.321665</td>\n",
       "      <td>0.338694</td>\n",
       "    </tr>\n",
       "    <tr>\n",
       "      <th>26</th>\n",
       "      <td>1968</td>\n",
       "      <td>Winter</td>\n",
       "      <td>1.0</td>\n",
       "      <td>0.331658</td>\n",
       "      <td>0.351759</td>\n",
       "      <td>0.316583</td>\n",
       "    </tr>\n",
       "    <tr>\n",
       "      <th>27</th>\n",
       "      <td>1972</td>\n",
       "      <td>Summer</td>\n",
       "      <td>1.0</td>\n",
       "      <td>0.332510</td>\n",
       "      <td>0.322634</td>\n",
       "      <td>0.344856</td>\n",
       "    </tr>\n",
       "    <tr>\n",
       "      <th>28</th>\n",
       "      <td>1972</td>\n",
       "      <td>Winter</td>\n",
       "      <td>1.0</td>\n",
       "      <td>0.351759</td>\n",
       "      <td>0.316583</td>\n",
       "      <td>0.331658</td>\n",
       "    </tr>\n",
       "    <tr>\n",
       "      <th>29</th>\n",
       "      <td>1976</td>\n",
       "      <td>Summer</td>\n",
       "      <td>1.0</td>\n",
       "      <td>0.331818</td>\n",
       "      <td>0.328788</td>\n",
       "      <td>0.339394</td>\n",
       "    </tr>\n",
       "    <tr>\n",
       "      <th>30</th>\n",
       "      <td>1976</td>\n",
       "      <td>Winter</td>\n",
       "      <td>1.0</td>\n",
       "      <td>0.331754</td>\n",
       "      <td>0.336493</td>\n",
       "      <td>0.331754</td>\n",
       "    </tr>\n",
       "    <tr>\n",
       "      <th>31</th>\n",
       "      <td>1980</td>\n",
       "      <td>Summer</td>\n",
       "      <td>1.0</td>\n",
       "      <td>0.330202</td>\n",
       "      <td>0.330925</td>\n",
       "      <td>0.338873</td>\n",
       "    </tr>\n",
       "    <tr>\n",
       "      <th>32</th>\n",
       "      <td>1980</td>\n",
       "      <td>Winter</td>\n",
       "      <td>1.0</td>\n",
       "      <td>0.330275</td>\n",
       "      <td>0.334862</td>\n",
       "      <td>0.334862</td>\n",
       "    </tr>\n",
       "    <tr>\n",
       "      <th>33</th>\n",
       "      <td>1984</td>\n",
       "      <td>Summer</td>\n",
       "      <td>1.0</td>\n",
       "      <td>0.336721</td>\n",
       "      <td>0.323171</td>\n",
       "      <td>0.340108</td>\n",
       "    </tr>\n",
       "    <tr>\n",
       "      <th>34</th>\n",
       "      <td>1984</td>\n",
       "      <td>Winter</td>\n",
       "      <td>1.0</td>\n",
       "      <td>0.333333</td>\n",
       "      <td>0.333333</td>\n",
       "      <td>0.333333</td>\n",
       "    </tr>\n",
       "    <tr>\n",
       "      <th>35</th>\n",
       "      <td>1988</td>\n",
       "      <td>Summer</td>\n",
       "      <td>1.0</td>\n",
       "      <td>0.328698</td>\n",
       "      <td>0.324273</td>\n",
       "      <td>0.347029</td>\n",
       "    </tr>\n",
       "    <tr>\n",
       "      <th>36</th>\n",
       "      <td>1988</td>\n",
       "      <td>Winter</td>\n",
       "      <td>1.0</td>\n",
       "      <td>0.330798</td>\n",
       "      <td>0.334601</td>\n",
       "      <td>0.334601</td>\n",
       "    </tr>\n",
       "    <tr>\n",
       "      <th>37</th>\n",
       "      <td>1992</td>\n",
       "      <td>Summer</td>\n",
       "      <td>1.0</td>\n",
       "      <td>0.326519</td>\n",
       "      <td>0.320678</td>\n",
       "      <td>0.352804</td>\n",
       "    </tr>\n",
       "    <tr>\n",
       "      <th>38</th>\n",
       "      <td>1992</td>\n",
       "      <td>Winter</td>\n",
       "      <td>1.0</td>\n",
       "      <td>0.327044</td>\n",
       "      <td>0.339623</td>\n",
       "      <td>0.333333</td>\n",
       "    </tr>\n",
       "    <tr>\n",
       "      <th>39</th>\n",
       "      <td>1994</td>\n",
       "      <td>Winter</td>\n",
       "      <td>1.0</td>\n",
       "      <td>0.332326</td>\n",
       "      <td>0.329305</td>\n",
       "      <td>0.338369</td>\n",
       "    </tr>\n",
       "    <tr>\n",
       "      <th>40</th>\n",
       "      <td>1996</td>\n",
       "      <td>Summer</td>\n",
       "      <td>1.0</td>\n",
       "      <td>0.330076</td>\n",
       "      <td>0.328447</td>\n",
       "      <td>0.341477</td>\n",
       "    </tr>\n",
       "    <tr>\n",
       "      <th>41</th>\n",
       "      <td>1998</td>\n",
       "      <td>Winter</td>\n",
       "      <td>1.0</td>\n",
       "      <td>0.329545</td>\n",
       "      <td>0.329545</td>\n",
       "      <td>0.340909</td>\n",
       "    </tr>\n",
       "    <tr>\n",
       "      <th>42</th>\n",
       "      <td>2000</td>\n",
       "      <td>Summer</td>\n",
       "      <td>1.0</td>\n",
       "      <td>0.330838</td>\n",
       "      <td>0.329840</td>\n",
       "      <td>0.339321</td>\n",
       "    </tr>\n",
       "    <tr>\n",
       "      <th>43</th>\n",
       "      <td>2002</td>\n",
       "      <td>Winter</td>\n",
       "      <td>1.0</td>\n",
       "      <td>0.338912</td>\n",
       "      <td>0.328452</td>\n",
       "      <td>0.332636</td>\n",
       "    </tr>\n",
       "    <tr>\n",
       "      <th>44</th>\n",
       "      <td>2004</td>\n",
       "      <td>Summer</td>\n",
       "      <td>1.0</td>\n",
       "      <td>0.331834</td>\n",
       "      <td>0.329835</td>\n",
       "      <td>0.338331</td>\n",
       "    </tr>\n",
       "    <tr>\n",
       "      <th>45</th>\n",
       "      <td>2006</td>\n",
       "      <td>Winter</td>\n",
       "      <td>1.0</td>\n",
       "      <td>0.334601</td>\n",
       "      <td>0.332700</td>\n",
       "      <td>0.332700</td>\n",
       "    </tr>\n",
       "    <tr>\n",
       "      <th>46</th>\n",
       "      <td>2008</td>\n",
       "      <td>Summer</td>\n",
       "      <td>1.0</td>\n",
       "      <td>0.327637</td>\n",
       "      <td>0.325684</td>\n",
       "      <td>0.346680</td>\n",
       "    </tr>\n",
       "    <tr>\n",
       "      <th>47</th>\n",
       "      <td>2010</td>\n",
       "      <td>Winter</td>\n",
       "      <td>1.0</td>\n",
       "      <td>0.334615</td>\n",
       "      <td>0.336538</td>\n",
       "      <td>0.328846</td>\n",
       "    </tr>\n",
       "    <tr>\n",
       "      <th>48</th>\n",
       "      <td>2012</td>\n",
       "      <td>Summer</td>\n",
       "      <td>1.0</td>\n",
       "      <td>0.325605</td>\n",
       "      <td>0.324575</td>\n",
       "      <td>0.349820</td>\n",
       "    </tr>\n",
       "    <tr>\n",
       "      <th>49</th>\n",
       "      <td>2014</td>\n",
       "      <td>Winter</td>\n",
       "      <td>1.0</td>\n",
       "      <td>0.338358</td>\n",
       "      <td>0.329983</td>\n",
       "      <td>0.331658</td>\n",
       "    </tr>\n",
       "    <tr>\n",
       "      <th>50</th>\n",
       "      <td>2016</td>\n",
       "      <td>Summer</td>\n",
       "      <td>1.0</td>\n",
       "      <td>0.328720</td>\n",
       "      <td>0.323777</td>\n",
       "      <td>0.347504</td>\n",
       "    </tr>\n",
       "  </tbody>\n",
       "</table>\n",
       "</div>"
      ],
      "text/plain": [
       "    year  season  medal_ratio  gold_ratio  silver_ratio  bronze_ratio\n",
       "0   1896  Summer          1.0    0.433566      0.300699      0.265734\n",
       "1   1900  Summer          1.0    0.332781      0.377483      0.289735\n",
       "2   1904  Summer          1.0    0.355967      0.335391      0.308642\n",
       "3   1906  Summer          1.0    0.342795      0.340611      0.316594\n",
       "4   1908  Summer          1.0    0.353791      0.338147      0.308063\n",
       "5   1912  Summer          1.0    0.346440      0.334750      0.318810\n",
       "6   1920  Summer          1.0    0.376911      0.342508      0.280581\n",
       "7   1924  Summer          1.0    0.332933      0.337740      0.329327\n",
       "8   1924  Winter          1.0    0.423077      0.292308      0.284615\n",
       "9   1928  Summer          1.0    0.333787      0.325613      0.340599\n",
       "10  1928  Winter          1.0    0.337079      0.314607      0.348315\n",
       "11  1932  Summer          1.0    0.353941      0.330757      0.315301\n",
       "12  1932  Winter          1.0    0.347826      0.347826      0.304348\n",
       "13  1936  Summer          1.0    0.340240      0.338059      0.321701\n",
       "14  1936  Winter          1.0    0.333333      0.342593      0.324074\n",
       "15  1948  Summer          1.0    0.339202      0.333333      0.327465\n",
       "16  1948  Winter          1.0    0.303704      0.355556      0.340741\n",
       "17  1952  Summer          1.0    0.341137      0.324415      0.334448\n",
       "18  1952  Winter          1.0    0.330882      0.323529      0.345588\n",
       "19  1956  Summer          1.0    0.338186      0.328108      0.333707\n",
       "20  1956  Winter          1.0    0.340000      0.326667      0.333333\n",
       "21  1960  Summer          1.0    0.339188      0.322722      0.338090\n",
       "22  1960  Winter          1.0    0.340136      0.326531      0.333333\n",
       "23  1964  Summer          1.0    0.337221      0.329446      0.333333\n",
       "24  1964  Winter          1.0    0.327957      0.360215      0.311828\n",
       "25  1968  Summer          1.0    0.339640      0.321665      0.338694\n",
       "26  1968  Winter          1.0    0.331658      0.351759      0.316583\n",
       "27  1972  Summer          1.0    0.332510      0.322634      0.344856\n",
       "28  1972  Winter          1.0    0.351759      0.316583      0.331658\n",
       "29  1976  Summer          1.0    0.331818      0.328788      0.339394\n",
       "30  1976  Winter          1.0    0.331754      0.336493      0.331754\n",
       "31  1980  Summer          1.0    0.330202      0.330925      0.338873\n",
       "32  1980  Winter          1.0    0.330275      0.334862      0.334862\n",
       "33  1984  Summer          1.0    0.336721      0.323171      0.340108\n",
       "34  1984  Winter          1.0    0.333333      0.333333      0.333333\n",
       "35  1988  Summer          1.0    0.328698      0.324273      0.347029\n",
       "36  1988  Winter          1.0    0.330798      0.334601      0.334601\n",
       "37  1992  Summer          1.0    0.326519      0.320678      0.352804\n",
       "38  1992  Winter          1.0    0.327044      0.339623      0.333333\n",
       "39  1994  Winter          1.0    0.332326      0.329305      0.338369\n",
       "40  1996  Summer          1.0    0.330076      0.328447      0.341477\n",
       "41  1998  Winter          1.0    0.329545      0.329545      0.340909\n",
       "42  2000  Summer          1.0    0.330838      0.329840      0.339321\n",
       "43  2002  Winter          1.0    0.338912      0.328452      0.332636\n",
       "44  2004  Summer          1.0    0.331834      0.329835      0.338331\n",
       "45  2006  Winter          1.0    0.334601      0.332700      0.332700\n",
       "46  2008  Summer          1.0    0.327637      0.325684      0.346680\n",
       "47  2010  Winter          1.0    0.334615      0.336538      0.328846\n",
       "48  2012  Summer          1.0    0.325605      0.324575      0.349820\n",
       "49  2014  Winter          1.0    0.338358      0.329983      0.331658\n",
       "50  2016  Summer          1.0    0.328720      0.323777      0.347504"
      ]
     },
     "execution_count": 140,
     "metadata": {},
     "output_type": "execute_result"
    }
   ],
   "source": [
    "medal_ratio = pd.read_sql(\n",
    "    '''\n",
    "    SELECT\n",
    "        year,\n",
    "        season,\n",
    "        CAST(total_medals AS FLOAT) / total_count AS medal_ratio,\n",
    "        CAST(gold_count AS FLOAT)/total_medals AS gold_ratio,\n",
    "        CAST(silver_count AS FLOAT)/total_medals AS silver_ratio,\n",
    "        CAST(bronze_count AS FLOAT)/total_medals AS bronze_ratio\n",
    "    FROM\n",
    "        (SELECT\n",
    "            year,\n",
    "            season,\n",
    "            COUNT(*) AS total_count,\n",
    "            SUM(CASE WHEN Medal IS NOT NULL THEN 1 ELSE 0 END) AS total_medals,\n",
    "            SUM(CASE WHEN Medal = 'Gold'    THEN 1 ELSE 0 END) AS gold_count,\n",
    "            SUM(CASE WHEN Medal = 'Silver'  THEN 1 ELSE 0 END) AS silver_count,\n",
    "            SUM(CASE WHEN Medal = 'Bronze'  THEN 1 ELSE 0 END) AS bronze_count\n",
    "        FROM\n",
    "            AthletesTable\n",
    "        WHERE\n",
    "            medal IS NOT NULL   \n",
    "        GROUP BY\n",
    "            year,season\n",
    "        ORDER BY\n",
    "            year) AS medals\n",
    "    ''', con=engine)\n",
    "\n",
    "medal_ratio"
   ]
  },
  {
   "cell_type": "code",
   "execution_count": 141,
   "metadata": {},
   "outputs": [
    {
     "data": {
      "image/png": "[encoded data removed]",
      "text/plain": [
       "<Figure size 1400x800 with 1 Axes>"
      ]
     },
     "metadata": {},
     "output_type": "display_data"
    }
   ],
   "source": [
    "plt.figure(figsize=[14,8])\n",
    "sns.lineplot(data=medal_ratio, x='year', y = 'gold_ratio',   color='gold', label='Gold')\n",
    "sns.lineplot(data=medal_ratio, x='year', y = 'silver_ratio', color='silver', label='Silver')\n",
    "sns.lineplot(data=medal_ratio, x='year', y = 'bronze_ratio', color='brown', label='Bronze')\n",
    "plt.xlabel('Year')\n",
    "plt.ylabel('Medal Ratio')\n",
    "plt.title('Evolution of Medals')\n",
    "plt.show()"
   ]
  },
  {
   "cell_type": "code",
   "execution_count": 143,
   "metadata": {},
   "outputs": [
    {
     "name": "stdout",
     "output_type": "stream",
     "text": [
      "<class 'pandas.core.frame.DataFrame'>\n",
      "RangeIndex: 271116 entries, 0 to 271115\n",
      "Data columns (total 15 columns):\n",
      " #   Column  Non-Null Count   Dtype  \n",
      "---  ------  --------------   -----  \n",
      " 0   ID      271116 non-null  int64  \n",
      " 1   Name    271116 non-null  object \n",
      " 2   Sex     271116 non-null  int64  \n",
      " 3   Age     261642 non-null  float64\n",
      " 4   Height  210945 non-null  float64\n",
      " 5   Weight  208241 non-null  float64\n",
      " 6   Team    271116 non-null  object \n",
      " 7   NOC     271116 non-null  object \n",
      " 8   Games   271116 non-null  object \n",
      " 9   Year    271116 non-null  int64  \n",
      " 10  Season  271116 non-null  int64  \n",
      " 11  City    271116 non-null  object \n",
      " 12  Sport   271116 non-null  object \n",
      " 13  Event   271116 non-null  object \n",
      " 14  Medal   271116 non-null  int64  \n",
      "dtypes: float64(3), int64(5), object(7)\n",
      "memory usage: 31.0+ MB\n"
     ]
    }
   ],
   "source": [
    "df_athletes.info()"
   ]
  },
  {
   "cell_type": "code",
   "execution_count": 153,
   "metadata": {},
   "outputs": [
    {
     "data": {
      "text/plain": [
       "Medal\n",
       "3    186132\n",
       "1     10167\n",
       "2      9866\n",
       "Name: count, dtype: int64"
      ]
     },
     "execution_count": 153,
     "metadata": {},
     "output_type": "execute_result"
    }
   ],
   "source": [
    "df_athletes['Medal'].value_counts()"
   ]
  },
  {
   "cell_type": "code",
   "execution_count": 145,
   "metadata": {},
   "outputs": [
    {
     "data": {
      "text/html": [
       "<div>\n",
       "<style scoped>\n",
       "    .dataframe tbody tr th:only-of-type {\n",
       "        vertical-align: middle;\n",
       "    }\n",
       "\n",
       "    .dataframe tbody tr th {\n",
       "        vertical-align: top;\n",
       "    }\n",
       "\n",
       "    .dataframe thead th {\n",
       "        text-align: right;\n",
       "    }\n",
       "</style>\n",
       "<table border=\"1\" class=\"dataframe\">\n",
       "  <thead>\n",
       "    <tr style=\"text-align: right;\">\n",
       "      <th></th>\n",
       "      <th>Sex</th>\n",
       "      <th>Age</th>\n",
       "      <th>Year</th>\n",
       "      <th>Season</th>\n",
       "      <th>Medal</th>\n",
       "      <th>BMI</th>\n",
       "      <th>City_Albertville</th>\n",
       "      <th>City_Amsterdam</th>\n",
       "      <th>City_Antwerpen</th>\n",
       "      <th>City_Athina</th>\n",
       "      <th>...</th>\n",
       "      <th>NOC_VIE</th>\n",
       "      <th>NOC_VIN</th>\n",
       "      <th>NOC_VNM</th>\n",
       "      <th>NOC_WIF</th>\n",
       "      <th>NOC_YAR</th>\n",
       "      <th>NOC_YEM</th>\n",
       "      <th>NOC_YMD</th>\n",
       "      <th>NOC_YUG</th>\n",
       "      <th>NOC_ZAM</th>\n",
       "      <th>NOC_ZIM</th>\n",
       "    </tr>\n",
       "  </thead>\n",
       "  <tbody>\n",
       "    <tr>\n",
       "      <th>0</th>\n",
       "      <td>1</td>\n",
       "      <td>24.0</td>\n",
       "      <td>1992</td>\n",
       "      <td>1</td>\n",
       "      <td>3</td>\n",
       "      <td>24.691358</td>\n",
       "      <td>False</td>\n",
       "      <td>False</td>\n",
       "      <td>False</td>\n",
       "      <td>False</td>\n",
       "      <td>...</td>\n",
       "      <td>False</td>\n",
       "      <td>False</td>\n",
       "      <td>False</td>\n",
       "      <td>False</td>\n",
       "      <td>False</td>\n",
       "      <td>False</td>\n",
       "      <td>False</td>\n",
       "      <td>False</td>\n",
       "      <td>False</td>\n",
       "      <td>False</td>\n",
       "    </tr>\n",
       "    <tr>\n",
       "      <th>1</th>\n",
       "      <td>1</td>\n",
       "      <td>23.0</td>\n",
       "      <td>2012</td>\n",
       "      <td>1</td>\n",
       "      <td>3</td>\n",
       "      <td>20.761246</td>\n",
       "      <td>False</td>\n",
       "      <td>False</td>\n",
       "      <td>False</td>\n",
       "      <td>False</td>\n",
       "      <td>...</td>\n",
       "      <td>False</td>\n",
       "      <td>False</td>\n",
       "      <td>False</td>\n",
       "      <td>False</td>\n",
       "      <td>False</td>\n",
       "      <td>False</td>\n",
       "      <td>False</td>\n",
       "      <td>False</td>\n",
       "      <td>False</td>\n",
       "      <td>False</td>\n",
       "    </tr>\n",
       "    <tr>\n",
       "      <th>4</th>\n",
       "      <td>0</td>\n",
       "      <td>21.0</td>\n",
       "      <td>1988</td>\n",
       "      <td>0</td>\n",
       "      <td>3</td>\n",
       "      <td>23.959094</td>\n",
       "      <td>False</td>\n",
       "      <td>False</td>\n",
       "      <td>False</td>\n",
       "      <td>False</td>\n",
       "      <td>...</td>\n",
       "      <td>False</td>\n",
       "      <td>False</td>\n",
       "      <td>False</td>\n",
       "      <td>False</td>\n",
       "      <td>False</td>\n",
       "      <td>False</td>\n",
       "      <td>False</td>\n",
       "      <td>False</td>\n",
       "      <td>False</td>\n",
       "      <td>False</td>\n",
       "    </tr>\n",
       "    <tr>\n",
       "      <th>5</th>\n",
       "      <td>0</td>\n",
       "      <td>21.0</td>\n",
       "      <td>1988</td>\n",
       "      <td>0</td>\n",
       "      <td>3</td>\n",
       "      <td>23.959094</td>\n",
       "      <td>False</td>\n",
       "      <td>False</td>\n",
       "      <td>False</td>\n",
       "      <td>False</td>\n",
       "      <td>...</td>\n",
       "      <td>False</td>\n",
       "      <td>False</td>\n",
       "      <td>False</td>\n",
       "      <td>False</td>\n",
       "      <td>False</td>\n",
       "      <td>False</td>\n",
       "      <td>False</td>\n",
       "      <td>False</td>\n",
       "      <td>False</td>\n",
       "      <td>False</td>\n",
       "    </tr>\n",
       "    <tr>\n",
       "      <th>6</th>\n",
       "      <td>0</td>\n",
       "      <td>25.0</td>\n",
       "      <td>1992</td>\n",
       "      <td>0</td>\n",
       "      <td>3</td>\n",
       "      <td>23.959094</td>\n",
       "      <td>True</td>\n",
       "      <td>False</td>\n",
       "      <td>False</td>\n",
       "      <td>False</td>\n",
       "      <td>...</td>\n",
       "      <td>False</td>\n",
       "      <td>False</td>\n",
       "      <td>False</td>\n",
       "      <td>False</td>\n",
       "      <td>False</td>\n",
       "      <td>False</td>\n",
       "      <td>False</td>\n",
       "      <td>False</td>\n",
       "      <td>False</td>\n",
       "      <td>False</td>\n",
       "    </tr>\n",
       "  </tbody>\n",
       "</table>\n",
       "<p>5 rows × 330 columns</p>\n",
       "</div>"
      ],
      "text/plain": [
       "   Sex   Age  Year  Season  Medal        BMI  City_Albertville  \\\n",
       "0    1  24.0  1992       1      3  24.691358             False   \n",
       "1    1  23.0  2012       1      3  20.761246             False   \n",
       "4    0  21.0  1988       0      3  23.959094             False   \n",
       "5    0  21.0  1988       0      3  23.959094             False   \n",
       "6    0  25.0  1992       0      3  23.959094              True   \n",
       "\n",
       "   City_Amsterdam  City_Antwerpen  City_Athina  ...  NOC_VIE  NOC_VIN  \\\n",
       "0           False           False        False  ...    False    False   \n",
       "1           False           False        False  ...    False    False   \n",
       "4           False           False        False  ...    False    False   \n",
       "5           False           False        False  ...    False    False   \n",
       "6           False           False        False  ...    False    False   \n",
       "\n",
       "   NOC_VNM  NOC_WIF  NOC_YAR  NOC_YEM  NOC_YMD  NOC_YUG  NOC_ZAM  NOC_ZIM  \n",
       "0    False    False    False    False    False    False    False    False  \n",
       "1    False    False    False    False    False    False    False    False  \n",
       "4    False    False    False    False    False    False    False    False  \n",
       "5    False    False    False    False    False    False    False    False  \n",
       "6    False    False    False    False    False    False    False    False  \n",
       "\n",
       "[5 rows x 330 columns]"
      ]
     },
     "execution_count": 145,
     "metadata": {},
     "output_type": "execute_result"
    }
   ],
   "source": [
    "# Fast Pre-Processing\n",
    "df_athletes.drop(['Name','Games','ID','Team', 'Event'], axis=1, inplace=True)\n",
    "df_athletes.dropna(inplace=True)\n",
    "# Instead Height and Weight, we will use BMI\n",
    "df_athletes['BMI'] = df_athletes['Weight'] / (df_athletes['Height'] / 100) ** 2\n",
    "df_athletes.drop(['Height','Weight'], axis=1, inplace=True)\n",
    "# Encoding the categorical variables\n",
    "df_athletes = pd.get_dummies(df_athletes, columns=['City', 'Sport','NOC'])\n",
    "df_athletes.head(5)\n"
   ]
  },
  {
   "cell_type": "code",
   "execution_count": 146,
   "metadata": {},
   "outputs": [
    {
     "name": "stdout",
     "output_type": "stream",
     "text": [
      "<class 'pandas.core.frame.DataFrame'>\n",
      "Index: 206165 entries, 0 to 271115\n",
      "Columns: 330 entries, Sex to NOC_ZIM\n",
      "dtypes: bool(324), float64(2), int64(4)\n",
      "memory usage: 74.7 MB\n"
     ]
    }
   ],
   "source": [
    "df_athletes.info()"
   ]
  },
  {
   "cell_type": "code",
   "execution_count": 154,
   "metadata": {},
   "outputs": [],
   "source": [
    "# Linear Regression\n",
    "from sklearn.model_selection import train_test_split\n",
    "from sklearn.linear_model import LinearRegression\n",
    "from sklearn.metrics import accuracy_score, confusion_matrix, classification_report\n",
    "from sklearn.preprocessing import StandardScaler\n",
    "from imblearn.combine import SMOTEENN\n",
    "\n",
    "X = df_athletes.drop('Medal', axis=1)\n",
    "y = df_athletes['Medal']\n",
    "\n",
    "X_train, X_test, y_train, y_test = train_test_split(X, y, test_size=0.2, random_state=42)\n",
    "\n",
    "# Fast Class-Balance\n",
    "smotee = SMOTEENN()\n",
    "X_train, y_train = smotee.fit_resample(X_train, y_train)\n",
    "\n",
    "y_train.value_counts()\n",
    "\n",
    "\n"
   ]
  },
  {
   "cell_type": "code",
   "execution_count": null,
   "metadata": {},
   "outputs": [],
   "source": [
    "scaler = StandardScaler()\n",
    "X_train = scaler.fit_transform(X_train)\n",
    "X_test = scaler.transform(X_test)\n",
    "\n",
    "model = LinearRegression()\n",
    "model.fit(X_train, y_train)\n",
    "y_pred = model.predict(X_test)\n",
    "y_pred = [1 if i < 1.2 else 2 if i < 2.2 else 3 for i in y_pred]\n",
    "accuracy = accuracy_score(y_test, y_pred)\n",
    "print('Accuracy:', accuracy)\n",
    "print('Confusion Matrix:\\n', confusion_matrix(y_test, y_pred))\n",
    "print('Classification Report:\\n', classification_report(y_test, y_pred))"
   ]
  }
 ],
 "metadata": {
  "kernelspec": {
   "display_name": "Python 3",
   "language": "python",
   "name": "python3"
  },
  "language_info": {
   "codemirror_mode": {
    "name": "ipython",
    "version": 3
   },
   "file_extension": ".py",
   "mimetype": "text/x-python",
   "name": "python",
   "nbconvert_exporter": "python",
   "pygments_lexer": "ipython3",
   "version": "3.11.8"
  }
 },
 "nbformat": 4,
 "nbformat_minor": 2
}
